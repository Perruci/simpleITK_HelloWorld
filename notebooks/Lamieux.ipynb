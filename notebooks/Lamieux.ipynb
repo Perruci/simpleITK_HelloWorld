{
 "cells": [
  {
   "cell_type": "markdown",
   "metadata": {},
   "source": [
    "# Lamieux Method For Brain Image Segmentation"
   ]
  },
  {
   "cell_type": "code",
   "execution_count": 1,
   "metadata": {},
   "outputs": [],
   "source": [
    "from __future__ import print_function\n",
    "\n",
    "import matplotlib.pyplot as plt\n",
    "%matplotlib inline\n",
    "from ipywidgets import interact, FloatSlider\n",
    "\n",
    "import SimpleITK as sitk\n",
    "import numpy as np\n",
    "\n",
    "from myshow import myshow, myshow3d"
   ]
  },
  {
   "cell_type": "markdown",
   "metadata": {},
   "source": [
    "Loading data and initial visualization..."
   ]
  },
  {
   "cell_type": "code",
   "execution_count": 2,
   "metadata": {},
   "outputs": [
    {
     "data": {
      "application/vnd.jupyter.widget-view+json": {
       "model_id": "51f609dc47194ab081d432f71d45ebe3",
       "version_major": 2,
       "version_minor": 0
      },
      "text/plain": [
       "interactive(children=(IntSlider(value=74, description='z', max=149), Output()), _dom_classes=('widget-interact…"
      ]
     },
     "metadata": {},
     "output_type": "display_data"
    }
   ],
   "source": [
    "img_T1 = sitk.ReadImage(\"../data/IXI002-Guys-0828-MPRAGESEN_-s256_-0301-00003-000001-01.nii\")\n",
    "\n",
    "# To visualize the labels image in RGB with needs a image with 0-255 range\n",
    "img_T1_255 = sitk.Cast(sitk.RescaleIntensity(img_T1), sitk.sitkUInt8)\n",
    "\n",
    "myshow3d(img_T1)"
   ]
  },
  {
   "cell_type": "markdown",
   "metadata": {},
   "source": [
    "### Step 1: Calculating the Foreground Threshold Level"
   ]
  },
  {
   "cell_type": "code",
   "execution_count": 9,
   "metadata": {},
   "outputs": [],
   "source": [
    "def OstsuThresh(img):\n",
    "    otsuFilter = sitk.OtsuThresholdImageFilter()\n",
    "    otsuFilter.SetOutsideValue(255)\n",
    "    otsuFilter.SetInsideValue(0)\n",
    "    mask = otsuFilter.Execute(img)\n",
    "    return mask, otsuFilter.GetThreshold()"
   ]
  },
  {
   "cell_type": "code",
   "execution_count": 14,
   "metadata": {},
   "outputs": [
    {
     "data": {
      "application/vnd.jupyter.widget-view+json": {
       "model_id": "1ad79b6410d1428e89c810f8d99348cc",
       "version_major": 2,
       "version_minor": 0
      },
      "text/plain": [
       "interactive(children=(IntSlider(value=74, description='z', max=149), Output()), _dom_classes=('widget-interact…"
      ]
     },
     "metadata": {},
     "output_type": "display_data"
    },
    {
     "name": "stdout",
     "output_type": "stream",
     "text": [
      "Threshold Otshu value:  179.0\n",
      "Estimated cerebrospinal fluid (CSF) intensity :  57.142857142857146\n"
     ]
    }
   ],
   "source": [
    "mask, threshOtsuValue = OstsuThresh(img_T1)\n",
    "I_scf = threshOtsuValue / 3.5 + 6\n",
    "# To visualize the labels image in RGB with needs a image with 0-255 range\n",
    "myshow(sitk.LabelOverlay(img_T1_255, mask), \"Otsu Thresholding\")\n",
    "print('Threshold Otshu value: ', threshOtsuValue)\n",
    "print('Estimated cerebrospinal fluid (CSF) intensity : ', I_scf)"
   ]
  },
  {
   "cell_type": "markdown",
   "metadata": {},
   "source": [
    "## Step 2 : Initial Brain Disconnection "
   ]
  },
  {
   "cell_type": "code",
   "execution_count": 26,
   "metadata": {},
   "outputs": [],
   "source": [
    "def Threshold(img, threshValue):\n",
    "    thresh = sitk.BinaryThresholdImageFilter()\n",
    "    # defines threshold window\n",
    "    thresh.SetUpperThreshold(threshValue);\n",
    "    thresh.SetLowerThreshold(0);\n",
    "    # defines inner and outer values\n",
    "    thresh.SetOutsideValue(255);\n",
    "    thresh.SetInsideValue(0);\n",
    "    # apply threshold\n",
    "    return thresh.Execute(img);\n",
    "\n",
    "def InitialBrainDisconnection(img, threshOtsuValue, threshMult):\n",
    "    # Compute a mask based on ostu value\n",
    "    threshValue = threshMult * threshOtsuValue / 3\n",
    "    mask = Threshold(img, threshValue)\n",
    "    # Connectivity Components Analysis\n",
    "    components = sitk.ConnectedComponent(img, mask, False)\n",
    "    # reorder componends\n",
    "    reorderedComponents = sitk.RelabelComponent(components)\n",
    "    return reorderedComponents"
   ]
  },
  {
   "cell_type": "code",
   "execution_count": 28,
   "metadata": {},
   "outputs": [
    {
     "data": {
      "application/vnd.jupyter.widget-view+json": {
       "model_id": "0bdc777019f04aa49baa92210b833839",
       "version_major": 2,
       "version_minor": 0
      },
      "text/plain": [
       "interactive(children=(IntSlider(value=74, description='z', max=149), Output()), _dom_classes=('widget-interact…"
      ]
     },
     "metadata": {},
     "output_type": "display_data"
    }
   ],
   "source": [
    "dst = InitialBrainDisconnection(img_T1, threshOtsuValue, 6)\n",
    "myshow(sitk.LabelOverlay(img_T1_255, dst), \"Connected Component Labels\")"
   ]
  },
  {
   "cell_type": "code",
   "execution_count": null,
   "metadata": {},
   "outputs": [],
   "source": []
  }
 ],
 "metadata": {
  "kernelspec": {
   "display_name": "Python 3",
   "language": "python",
   "name": "python3"
  },
  "language_info": {
   "codemirror_mode": {
    "name": "ipython",
    "version": 3
   },
   "file_extension": ".py",
   "mimetype": "text/x-python",
   "name": "python",
   "nbconvert_exporter": "python",
   "pygments_lexer": "ipython3",
   "version": "3.6.8"
  }
 },
 "nbformat": 4,
 "nbformat_minor": 2
}
