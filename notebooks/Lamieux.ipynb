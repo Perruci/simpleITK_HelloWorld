{
 "cells": [
  {
   "cell_type": "code",
   "execution_count": 89,
   "metadata": {},
   "outputs": [
    {
     "name": "stdout",
     "output_type": "stream",
     "text": [
      "/Users/pedroperrusi/Desktop/github/simpleITK_Sandbox\n"
     ]
    }
   ],
   "source": [
    "# Change directory to VSCode workspace root so that relative path loads work correctly. Turn this addition off with the DataScience.changeDirOnImportExport setting\n",
    "import os\n",
    "try:\n",
    "\tos.chdir(os.path.join(os.getcwd(), '..'))\n",
    "\tprint(os.getcwd())\n",
    "except:\n",
    "\tpass\n"
   ]
  },
  {
   "cell_type": "markdown",
   "metadata": {},
   "source": [
    " # Lamieux Method For Brain Image Segmentation\n",
    " \n",
    "Replication of the results reported by Lamieux et al. : Fast, accurate, and reproducible automatic segmentation of the brain in T1-weighted volume MRI data."
   ]
  },
  {
   "cell_type": "markdown",
   "metadata": {},
   "source": [
    " ### Initial Setup"
   ]
  },
  {
   "cell_type": "code",
   "execution_count": 91,
   "metadata": {},
   "outputs": [],
   "source": [
    "from __future__ import print_function\n",
    "\n",
    "import matplotlib.pyplot as plt\n",
    "get_ipython().run_line_magic('matplotlib', 'inline')\n",
    "from ipywidgets import interact, FloatSlider\n",
    "\n",
    "import SimpleITK as sitk\n",
    "import numpy as np\n",
    "\n",
    "from myshow import myshow, myshow3d\n"
   ]
  },
  {
   "cell_type": "markdown",
   "metadata": {},
   "source": [
    " Loading data and initial visualization..."
   ]
  },
  {
   "cell_type": "code",
   "execution_count": 92,
   "metadata": {},
   "outputs": [
    {
     "data": {
      "application/vnd.jupyter.widget-view+json": {
       "model_id": "014b90ded9ec4ab4821f9e4eb682085f",
       "version_major": 2,
       "version_minor": 0
      },
      "text/plain": [
       "interactive(children=(IntSlider(value=74, description='z', max=149), Output()), _dom_classes=('widget-interact…"
      ]
     },
     "metadata": {},
     "output_type": "display_data"
    }
   ],
   "source": [
    "img_T1 = sitk.ReadImage(\"../data/IXI002-Guys-0828-MPRAGESEN_-s256_-0301-00003-000001-01.nii\")\n",
    "\n",
    "# To visualize the labels image in RGB with needs a image with 0-255 range\n",
    "img_T1_255 = sitk.Cast(sitk.RescaleIntensity(img_T1), sitk.sitkUInt8)\n",
    "\n",
    "myshow3d(img_T1)\n"
   ]
  },
  {
   "cell_type": "markdown",
   "metadata": {},
   "source": [
    " ## Function definitions...."
   ]
  },
  {
   "cell_type": "code",
   "execution_count": 93,
   "metadata": {},
   "outputs": [],
   "source": [
    "def OstsuThresh(img):\n",
    "    otsuFilter = sitk.OtsuThresholdImageFilter()\n",
    "    otsuFilter.SetOutsideValue(255)\n",
    "    otsuFilter.SetInsideValue(0)\n",
    "    mask = otsuFilter.Execute(img)\n",
    "    return mask, otsuFilter.GetThreshold()\n",
    "\n",
    "def Threshold(img, threshValue):\n",
    "    thresh = sitk.BinaryThresholdImageFilter()\n",
    "    # defines threshold window\n",
    "    thresh.SetUpperThreshold(threshValue)\n",
    "    thresh.SetLowerThreshold(0)\n",
    "    # defines inner and outer values\n",
    "    thresh.SetOutsideValue(255)\n",
    "    thresh.SetInsideValue(0)\n",
    "    # apply threshold\n",
    "    return thresh.Execute(img)\n",
    "\n",
    "''' Performs step 2 : Initial Brain Disconnection'''\n",
    "def InitialBrainDisconnection(img, threshOtsuValue, threshMult):\n",
    "    # Compute a mask based on ostu value\n",
    "    threshValue = threshMult * threshOtsuValue / 3\n",
    "    mask = Threshold(img, threshValue)\n",
    "    # Apply Conditionnal Morphological Opening Operation\n",
    "    mask = ConditionalOpening(img, mask, threshOtsuValue, kernelSize=3, kernelType=1)\n",
    "    # Connectivity Components Analysis\n",
    "    filter = sitk.ConnectedComponentImageFilter()\n",
    "    components = filter.Execute(img, mask, True)\n",
    "    # reorder componends\n",
    "    filter = sitk.RelabelComponentImageFilter()\n",
    "    reorderedComponents = filter.Execute(components)\n",
    "    # get largest component size\n",
    "    component_size = filter.GetSizeOfObjectsInPixels()[0]\n",
    "    # get image largest component label (pixel value = 1)\n",
    "    dst = sitk.BinaryThreshold(reorderedComponents, 1, 1)\n",
    "    \n",
    "    # debug...\n",
    "    myshow(sitk.LabelOverlay(img_T1_255, dst), 'ThreshMult: ' + str(threshMult))\n",
    "    \n",
    "    return dst, component_size\n",
    "\n",
    "''' Apply a morphological open operation to seg when img pixels are over threshValue '''\n",
    "def ConditionalOpening(img, seg, threshValue, kernelSize, kernelType):\n",
    "    mask = Threshold(img, threshValue)\n",
    "    maskedSeg = sitk.Mask(seg, mask)\n",
    "    filter = sitk.BinaryMorphologicalOpeningImageFilter()\n",
    "    filter.SetKernelType(kernelType)\n",
    "    filter.SetKernelRadius(kernelSize)\n",
    "    dst = filter.Execute(maskedSeg)\n",
    "    return dst\n",
    "\n",
    "''' Returns true for a vector composed only by zeros and false otherwise. '''\n",
    "def isAllZero(vec):\n",
    "    return not np.any(vec)\n",
    "\n",
    "''' Returns true if vector contains any zero value, false otherwise. '''\n",
    "def hasAnyZero(vec):\n",
    "    if np.size(np.nonzero(vec)) == np.size(vec):\n",
    "        return False\n",
    "    else:\n",
    "        return True\n"
   ]
  },
  {
   "cell_type": "markdown",
   "metadata": {},
   "source": [
    " ### Step 1: Calculating the Foreground Threshold Level"
   ]
  },
  {
   "cell_type": "code",
   "execution_count": 94,
   "metadata": {},
   "outputs": [
    {
     "data": {
      "application/vnd.jupyter.widget-view+json": {
       "model_id": "eb4088a64bf944e19d164c34e25ff7d3",
       "version_major": 2,
       "version_minor": 0
      },
      "text/plain": [
       "interactive(children=(IntSlider(value=74, description='z', max=149), Output()), _dom_classes=('widget-interact…"
      ]
     },
     "metadata": {},
     "output_type": "display_data"
    },
    {
     "name": "stdout",
     "output_type": "stream",
     "text": [
      "Threshold Otshu value:  179.0\n",
      "Estimated cerebrospinal fluid (CSF) intensity :  57.142857142857146\n"
     ]
    }
   ],
   "source": [
    "mask, threshOtsuValue = OstsuThresh(img_T1)\n",
    "I_scf = threshOtsuValue / 3.5 + 6\n",
    "# To visualize the labels image in RGB with needs a image with 0-255 range\n",
    "myshow(sitk.LabelOverlay(img_T1_255, mask), \"Otsu Thresholding\")\n",
    "print('Threshold Otshu value: ', threshOtsuValue)\n",
    "print('Estimated cerebrospinal fluid (CSF) intensity : ', I_scf)\n"
   ]
  },
  {
   "cell_type": "markdown",
   "metadata": {},
   "source": [
    " ## Step 2 : Initial Brain Disconnection\n",
    " Performs a loop where each connected component volume found on the image is calculated. The loop stops when the change observed in the volume is greater then 3 times the moving average of the last interactions."
   ]
  },
  {
   "cell_type": "code",
   "execution_count": 98,
   "metadata": {},
   "outputs": [
    {
     "data": {
      "application/vnd.jupyter.widget-view+json": {
       "model_id": "a6fb39e5752b4238aee5be34769b1145",
       "version_major": 2,
       "version_minor": 0
      },
      "text/plain": [
       "interactive(children=(IntSlider(value=74, description='z', max=149), Output()), _dom_classes=('widget-interact…"
      ]
     },
     "metadata": {},
     "output_type": "display_data"
    },
    {
     "data": {
      "application/vnd.jupyter.widget-view+json": {
       "model_id": "e47518edaedd4b889375e1659802d497",
       "version_major": 2,
       "version_minor": 0
      },
      "text/plain": [
       "interactive(children=(IntSlider(value=74, description='z', max=149), Output()), _dom_classes=('widget-interact…"
      ]
     },
     "metadata": {},
     "output_type": "display_data"
    },
    {
     "name": "stdout",
     "output_type": "stream",
     "text": [
      "2 :  0.0 >  0.0\n"
     ]
    },
    {
     "data": {
      "application/vnd.jupyter.widget-view+json": {
       "model_id": "ff032a902e1a4635baa78e50e2f892f4",
       "version_major": 2,
       "version_minor": 0
      },
      "text/plain": [
       "interactive(children=(IntSlider(value=74, description='z', max=149), Output()), _dom_classes=('widget-interact…"
      ]
     },
     "metadata": {},
     "output_type": "display_data"
    },
    {
     "name": "stdout",
     "output_type": "stream",
     "text": [
      "3 :  0.0 >  0.0\n"
     ]
    },
    {
     "data": {
      "application/vnd.jupyter.widget-view+json": {
       "model_id": "043fdd0b50b6444f9c82e0133b8e2914",
       "version_major": 2,
       "version_minor": 0
      },
      "text/plain": [
       "interactive(children=(IntSlider(value=74, description='z', max=149), Output()), _dom_classes=('widget-interact…"
      ]
     },
     "metadata": {},
     "output_type": "display_data"
    },
    {
     "name": "stdout",
     "output_type": "stream",
     "text": [
      "4 :  0.11772076301136584 >  0.0\n"
     ]
    },
    {
     "data": {
      "application/vnd.jupyter.widget-view+json": {
       "model_id": "7c43dcfda39e412799bb15c4df4ce715",
       "version_major": 2,
       "version_minor": 0
      },
      "text/plain": [
       "interactive(children=(IntSlider(value=74, description='z', max=149), Output()), _dom_classes=('widget-interact…"
      ]
     },
     "metadata": {},
     "output_type": "display_data"
    },
    {
     "name": "stdout",
     "output_type": "stream",
     "text": [
      "5 :  0.23353208146377555 >  0.11772076301136586\n",
      "Number of interactions:  5\n"
     ]
    },
    {
     "data": {
      "application/vnd.jupyter.widget-view+json": {
       "model_id": "96683b31232d447a820e4afb02e25f38",
       "version_major": 2,
       "version_minor": 0
      },
      "text/plain": [
       "interactive(children=(IntSlider(value=74, description='z', max=149), Output()), _dom_classes=('widget-interact…"
      ]
     },
     "metadata": {},
     "output_type": "display_data"
    }
   ],
   "source": [
    "# initialize variables\n",
    "threshMult = 1\n",
    "largestComponentSize = 0\n",
    "# first call of the interactive function\n",
    "largestComponentImg, initialComponentSize = InitialBrainDisconnection(img_T1, threshOtsuValue, threshMult)\n",
    "# initialize loop variables\n",
    "largestComponentSize = initialComponentSize\n",
    "AverageWindowSize = 3 # equals to moving average window size\n",
    "MAX_INTERACTIONS = 10 # max interactions of the loop\n",
    "relativeDecreace = 0 # actual relative decreace\n",
    "relativeDecreacesVec = np.zeros(AverageWindowSize) # vector of past relative decreases\n",
    "\n",
    "''' Loops InitialBrainDisconnection ultil the reduction of brain volume is greater than 3 times the moving average of the last 3 interactions. \n",
    "If relativeDecreacesVec contains only zeroes, continue. \n",
    "'''\n",
    "while(relativeDecreace <= (3 * np.mean(relativeDecreacesVec)) \n",
    "      or isAllZero(relativeDecreacesVec)):\n",
    "    # updates loop break condition variables ------------------------------------------------------------\n",
    "    movingAvgIdx = threshMult % AverageWindowSize  # modulo is the index of the vector\n",
    "    relativeDecreacesVec[movingAvgIdx] = relativeDecreace # add last decrease to past decreases vector\n",
    "    lastComponetSize = largestComponentSize # updates last component size\n",
    "    threshMult = threshMult + 1 # updates thresh multiplier\n",
    "    ''' If maximum interactions its overcome, exit loop '''\n",
    "    if threshMult >= MAX_INTERACTIONS:\n",
    "        break\n",
    "    # calls initial brain disconnection\n",
    "    largestComponentImg, largestComponentSize = InitialBrainDisconnection(img_T1, threshOtsuValue, threshMult)\n",
    "    # compute relative decrease\n",
    "    relativeDecreace = np.abs(largestComponentSize - lastComponetSize)/ lastComponetSize\n",
    "\n",
    "print('Number of interactions: ', threshMult)\n",
    "myshow(sitk.LabelOverlay(img_T1_255, largestComponentImg), \"Largest Component Label\")"
   ]
  },
  {
   "cell_type": "code",
   "execution_count": 0,
   "metadata": {},
   "outputs": [],
   "source": []
  }
 ],
 "metadata": {
  "file_extension": ".py",
  "kernelspec": {
   "display_name": "Python 3",
   "language": "python",
   "name": "python3"
  },
  "language_info": {
   "codemirror_mode": {
    "name": "ipython",
    "version": 3
   },
   "file_extension": ".py",
   "mimetype": "text/x-python",
   "name": "python",
   "nbconvert_exporter": "python",
   "pygments_lexer": "ipython3",
   "version": "3.6.8"
  },
  "mimetype": "text/x-python",
  "name": "python",
  "npconvert_exporter": "python",
  "pygments_lexer": "ipython3",
  "version": 3
 },
 "nbformat": 4,
 "nbformat_minor": 2
}
