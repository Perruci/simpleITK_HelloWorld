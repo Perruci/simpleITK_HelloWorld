{
 "cells": [
  {
   "cell_type": "markdown",
   "metadata": {},
   "source": [
    " # Lamieux Method For Brain Image Segmentation\n",
    " \n",
    "Replication of the results reported by Lamieux et al. : Fast, accurate, and reproducible automatic segmentation of the brain in T1-weighted volume MRI data."
   ]
  },
  {
   "cell_type": "markdown",
   "metadata": {},
   "source": [
    " ### Initial Setup"
   ]
  },
  {
   "cell_type": "code",
   "execution_count": 1,
   "metadata": {},
   "outputs": [],
   "source": [
    "from __future__ import print_function\n",
    "\n",
    "import matplotlib.pyplot as plt\n",
    "get_ipython().run_line_magic('matplotlib', 'inline')\n",
    "from ipywidgets import interact, FloatSlider\n",
    "\n",
    "import SimpleITK as sitk\n",
    "import numpy as np\n",
    "\n",
    "from myshow import myshow, myshow3d\n"
   ]
  },
  {
   "cell_type": "markdown",
   "metadata": {},
   "source": [
    " Loading data and initial visualization..."
   ]
  },
  {
   "cell_type": "code",
   "execution_count": 2,
   "metadata": {},
   "outputs": [
    {
     "data": {
      "application/vnd.jupyter.widget-view+json": {
       "model_id": "001c47a9005a4ea5ac5546b3cdc1ea5f",
       "version_major": 2,
       "version_minor": 0
      },
      "text/plain": [
       "interactive(children=(IntSlider(value=74, description='z', max=149), Output()), _dom_classes=('widget-interact…"
      ]
     },
     "metadata": {},
     "output_type": "display_data"
    }
   ],
   "source": [
    "img_T1 = sitk.ReadImage(\"../data/IXI002-Guys-0828-MPRAGESEN_-s256_-0301-00003-000001-01.nii\")\n",
    "\n",
    "# To visualize the labels image in RGB with needs a image with 0-255 range\n",
    "img_T1_255 = sitk.Cast(sitk.RescaleIntensity(img_T1), sitk.sitkUInt8)\n",
    "\n",
    "myshow3d(img_T1)\n"
   ]
  },
  {
   "cell_type": "markdown",
   "metadata": {},
   "source": [
    " ## Function definitions...."
   ]
  },
  {
   "cell_type": "code",
   "execution_count": 14,
   "metadata": {},
   "outputs": [],
   "source": [
    "def OstsuThresh(img):\n",
    "    otsuFilter = sitk.OtsuThresholdImageFilter()\n",
    "    otsuFilter.SetOutsideValue(255)\n",
    "    otsuFilter.SetInsideValue(0)\n",
    "    mask = otsuFilter.Execute(img)\n",
    "    return mask, otsuFilter.GetThreshold()\n",
    "\n",
    "def Threshold(img, threshValue):\n",
    "    thresh = sitk.BinaryThresholdImageFilter()\n",
    "    # defines threshold window\n",
    "    thresh.SetUpperThreshold(threshValue)\n",
    "    thresh.SetLowerThreshold(0)\n",
    "    # defines inner and outer values\n",
    "    thresh.SetOutsideValue(255)\n",
    "    thresh.SetInsideValue(0)\n",
    "    # apply threshold\n",
    "    return thresh.Execute(img)\n",
    "\n",
    "''' Performs step 2 : Initial Brain Disconnection'''\n",
    "def InitialBrainDisconnection(img, threshOtsuValue, threshMult):\n",
    "    # Compute a mask based on ostu value\n",
    "    threshValue = threshMult * threshOtsuValue / 3\n",
    "    mask = Threshold(img, threshValue)\n",
    "    # Apply Conditionnal Morphological Opening Operation\n",
    "    mask = ConditionalOpening(img, mask, threshOtsuValue, kernelSize=3, kernelType=1)\n",
    "    # Connectivity Components Analysis\n",
    "    filter = sitk.ConnectedComponentImageFilter()\n",
    "    components = filter.Execute(img, mask, True)\n",
    "    # reorder componends\n",
    "    filter = sitk.RelabelComponentImageFilter()\n",
    "    reorderedComponents = filter.Execute(components)\n",
    "    # get largest component size\n",
    "    component_size = filter.GetSizeOfObjectsInPixels()[0]\n",
    "    # get image largest component label (pixel value = 1)\n",
    "    dst = sitk.BinaryThreshold(reorderedComponents, 1, 1)\n",
    "    \n",
    "    # debug...\n",
    "    #myshow(sitk.LabelOverlay(img_T1_255, dst), 'ThreshMult: ' + str(threshMult))\n",
    "    \n",
    "    return dst, component_size\n",
    "\n",
    "''' Apply a morphological open operation to seg when img pixels are over threshValue '''\n",
    "def ConditionalOpening(img, seg, threshValue, kernelSize, kernelType):\n",
    "    mask = Threshold(img, threshValue)\n",
    "    maskedSeg = sitk.Mask(seg, mask)\n",
    "    filter = sitk.BinaryMorphologicalOpeningImageFilter()\n",
    "    filter.SetKernelType(kernelType)\n",
    "    filter.SetKernelRadius(kernelSize)\n",
    "    dst = filter.Execute(maskedSeg)\n",
    "    return dst\n",
    "\n",
    "''' Apply a morphological dilate operation to seg when img pixels are over threshValue '''\n",
    "def ConditionalDownwardsDilate(img, seg, threshValue, kernelSize, kernelType):\n",
    "    mask = Threshold(img, threshValue)\n",
    "    maskedSeg = sitk.Mask(seg, mask)\n",
    "    filter = sitk.BinaryDilateImageFilter()\n",
    "    filter.SetKernelType(kernelType)\n",
    "    filter.SetKernelRadius(kernelSize)\n",
    "    dst = filter.Execute(maskedSeg)\n",
    "    return dst\n",
    "\n",
    "''' Returns true for a vector composed only by zeros and false otherwise. '''\n",
    "def isAllZero(vec):\n",
    "    return not np.any(vec)\n",
    "\n",
    "''' Returns true if vector contains any zero value, false otherwise. '''\n",
    "def hasAnyZero(vec):\n",
    "    if np.size(np.nonzero(vec)) == np.size(vec):\n",
    "        return False\n",
    "    else:\n",
    "        return True\n"
   ]
  },
  {
   "cell_type": "markdown",
   "metadata": {},
   "source": [
    " ### Step 1: Calculating the Foreground Threshold Level"
   ]
  },
  {
   "cell_type": "code",
   "execution_count": 4,
   "metadata": {},
   "outputs": [
    {
     "data": {
      "application/vnd.jupyter.widget-view+json": {
       "model_id": "1827720c8e864526b340d1102569bcbc",
       "version_major": 2,
       "version_minor": 0
      },
      "text/plain": [
       "interactive(children=(IntSlider(value=74, description='z', max=149), Output()), _dom_classes=('widget-interact…"
      ]
     },
     "metadata": {},
     "output_type": "display_data"
    },
    {
     "name": "stdout",
     "output_type": "stream",
     "text": [
      "Threshold Otshu value:  179.0\n",
      "Estimated cerebrospinal fluid (CSF) intensity :  57.142857142857146\n"
     ]
    }
   ],
   "source": [
    "mask, threshOtsuValue = OstsuThresh(img_T1)\n",
    "I_scf = threshOtsuValue / 3.5 + 6\n",
    "# To visualize the labels image in RGB with needs a image with 0-255 range\n",
    "myshow(sitk.LabelOverlay(img_T1_255, mask), \"Otsu Thresholding\")\n",
    "print('Threshold Otshu value: ', threshOtsuValue)\n",
    "print('Estimated cerebrospinal fluid (CSF) intensity : ', I_scf)\n"
   ]
  },
  {
   "cell_type": "markdown",
   "metadata": {},
   "source": [
    " ## Step 2 : Initial Brain Disconnection\n",
    " Performs a loop where each connected component volume found on the image is calculated. The loop stops when the change observed in the volume is greater then 3 times the moving average of the last interactions."
   ]
  },
  {
   "cell_type": "code",
   "execution_count": 5,
   "metadata": {},
   "outputs": [
    {
     "data": {
      "application/vnd.jupyter.widget-view+json": {
       "model_id": "43cdc2aa9af440619b0552ab83450b61",
       "version_major": 2,
       "version_minor": 0
      },
      "text/plain": [
       "interactive(children=(IntSlider(value=74, description='z', max=149), Output()), _dom_classes=('widget-interact…"
      ]
     },
     "metadata": {},
     "output_type": "display_data"
    },
    {
     "data": {
      "application/vnd.jupyter.widget-view+json": {
       "model_id": "2a887be0372e4a928f01936ac67f6311",
       "version_major": 2,
       "version_minor": 0
      },
      "text/plain": [
       "interactive(children=(IntSlider(value=74, description='z', max=149), Output()), _dom_classes=('widget-interact…"
      ]
     },
     "metadata": {},
     "output_type": "display_data"
    },
    {
     "data": {
      "application/vnd.jupyter.widget-view+json": {
       "model_id": "609014d300bd4d469612d700dcf3b7a9",
       "version_major": 2,
       "version_minor": 0
      },
      "text/plain": [
       "interactive(children=(IntSlider(value=74, description='z', max=149), Output()), _dom_classes=('widget-interact…"
      ]
     },
     "metadata": {},
     "output_type": "display_data"
    },
    {
     "data": {
      "application/vnd.jupyter.widget-view+json": {
       "model_id": "8854cd1362294f22ba83f54603021cd3",
       "version_major": 2,
       "version_minor": 0
      },
      "text/plain": [
       "interactive(children=(IntSlider(value=74, description='z', max=149), Output()), _dom_classes=('widget-interact…"
      ]
     },
     "metadata": {},
     "output_type": "display_data"
    },
    {
     "data": {
      "application/vnd.jupyter.widget-view+json": {
       "model_id": "e09a1916a330492cb7b8ec1e08c6e583",
       "version_major": 2,
       "version_minor": 0
      },
      "text/plain": [
       "interactive(children=(IntSlider(value=74, description='z', max=149), Output()), _dom_classes=('widget-interact…"
      ]
     },
     "metadata": {},
     "output_type": "display_data"
    },
    {
     "name": "stdout",
     "output_type": "stream",
     "text": [
      "Number of interactions:  5\n"
     ]
    },
    {
     "data": {
      "application/vnd.jupyter.widget-view+json": {
       "model_id": "22327a1dab7d4f3babfd801792e7e929",
       "version_major": 2,
       "version_minor": 0
      },
      "text/plain": [
       "interactive(children=(IntSlider(value=74, description='z', max=149), Output()), _dom_classes=('widget-interact…"
      ]
     },
     "metadata": {},
     "output_type": "display_data"
    }
   ],
   "source": [
    "# initialize variables\n",
    "threshMult = 1\n",
    "largestComponentSize = 0\n",
    "# first call of the interactive function\n",
    "largestComponentImg, initialComponentSize = InitialBrainDisconnection(img_T1, threshOtsuValue, threshMult)\n",
    "# initialize loop variables\n",
    "largestComponentSize = initialComponentSize\n",
    "AverageWindowSize = 3 # equals to moving average window size\n",
    "MAX_INTERACTIONS = 10 # max interactions of the loop\n",
    "relativeDecreace = 0 # actual relative decreace\n",
    "relativeDecreacesVec = np.zeros(AverageWindowSize) # vector of past relative decreases\n",
    "\n",
    "''' Loops InitialBrainDisconnection ultil the reduction of brain volume is greater than 3 times the moving average of the last 3 interactions. \n",
    "If relativeDecreacesVec contains only zeroes, continue. \n",
    "'''\n",
    "while(relativeDecreace <= (3 * np.mean(relativeDecreacesVec)) \n",
    "      or isAllZero(relativeDecreacesVec)):\n",
    "    # updates loop break condition variables ------------------------------------------------------------\n",
    "    movingAvgIdx = threshMult % AverageWindowSize  # modulo is the index of the vector\n",
    "    relativeDecreacesVec[movingAvgIdx] = relativeDecreace # add last decrease to past decreases vector\n",
    "    lastComponetSize = largestComponentSize # updates last component size\n",
    "    threshMult = threshMult + 1 # updates thresh multiplier\n",
    "    ''' If maximum interactions its overcome, exit loop '''\n",
    "    if threshMult >= MAX_INTERACTIONS:\n",
    "        break\n",
    "    # calls initial brain disconnection\n",
    "    largestComponentImg, largestComponentSize = InitialBrainDisconnection(img_T1, threshOtsuValue, threshMult)\n",
    "    # compute relative decrease\n",
    "    relativeDecreace = np.abs(largestComponentSize - lastComponetSize)/ lastComponetSize\n",
    "\n",
    "print('Number of interactions: ', threshMult)\n",
    "myshow(sitk.LabelOverlay(img_T1_255, largestComponentImg), \"Largest Component Label\")"
   ]
  },
  {
   "cell_type": "markdown",
   "metadata": {},
   "source": [
    "### Step 3: Initial Mara Dura Removal"
   ]
  },
  {
   "cell_type": "code",
   "execution_count": 32,
   "metadata": {},
   "outputs": [
    {
     "data": {
      "application/vnd.jupyter.widget-view+json": {
       "model_id": "14f7c653e36d457da144002440e68224",
       "version_major": 2,
       "version_minor": 0
      },
      "text/plain": [
       "interactive(children=(IntSlider(value=74, description='z', max=149), Output()), _dom_classes=('widget-interact…"
      ]
     },
     "metadata": {},
     "output_type": "display_data"
    },
    {
     "name": "stdout",
     "output_type": "stream",
     "text": [
      "(4.172201156616211, 388.01470947265625, 513.1807556152344)\n"
     ]
    }
   ],
   "source": [
    "# call a multiple otsu threshold to separate WM, GM et SCF\n",
    "maskedImg = sitk.Mask(img_T1, largestComponentImg)\n",
    "# call filter\n",
    "filter = sitk.OtsuMultipleThresholdsImageFilter()\n",
    "filter.SetNumberOfThresholds(3)\n",
    "labelOtsu =filter.Execute(maskedImg)\n",
    "multipleOtsu = filter.GetThresholds()\n",
    "\n",
    "# reorder labels\n",
    "filter = sitk.RelabelComponentImageFilter()\n",
    "labelOtsu = filter.Execute(labelOtsu)\n",
    "\n",
    "\n",
    "myshow(sitk.LabelOverlay(img_T1_255, labelOtsu), \"Multiple OTSU\")\n",
    "print(multipleOtsu)"
   ]
  },
  {
   "cell_type": "code",
   "execution_count": 40,
   "metadata": {},
   "outputs": [
    {
     "data": {
      "application/vnd.jupyter.widget-view+json": {
       "model_id": "ec6e904d441c4d1cb621328ba042d6d0",
       "version_major": 2,
       "version_minor": 0
      },
      "text/plain": [
       "interactive(children=(IntSlider(value=74, description='z', max=149), Output()), _dom_classes=('widget-interact…"
      ]
     },
     "metadata": {},
     "output_type": "display_data"
    },
    {
     "data": {
      "application/vnd.jupyter.widget-view+json": {
       "model_id": "f79e7545c51449c6a09128b49d148ccc",
       "version_major": 2,
       "version_minor": 0
      },
      "text/plain": [
       "interactive(children=(IntSlider(value=74, description='z', max=149), Output()), _dom_classes=('widget-interact…"
      ]
     },
     "metadata": {},
     "output_type": "display_data"
    },
    {
     "data": {
      "application/vnd.jupyter.widget-view+json": {
       "model_id": "da9eaa7ed8e94ae08bbb006806584cdd",
       "version_major": 2,
       "version_minor": 0
      },
      "text/plain": [
       "interactive(children=(IntSlider(value=74, description='z', max=149), Output()), _dom_classes=('widget-interact…"
      ]
     },
     "metadata": {},
     "output_type": "display_data"
    }
   ],
   "source": [
    "# Gray Matter is supposed to be the biggest\n",
    "img_GM = sitk.BinaryThreshold(labelOtsu, 1, 1)\n",
    "# White matter following\n",
    "img_WM = sitk.BinaryThreshold(labelOtsu, 2, 2)\n",
    "# Then Marrow Dura\n",
    "img_MD = sitk.BinaryThreshold(labelOtsu, 3, 3)\n",
    "\n",
    "myshow(sitk.LabelOverlay(img_T1_255, img_GM), \"GRAY MATTER\")\n",
    "\n",
    "myshow(sitk.LabelOverlay(img_T1_255, img_WM), \"WHITE MATTER\")\n",
    "\n",
    "myshow(sitk.LabelOverlay(img_T1_255, img_MD), \"MARROW DURA\")\n"
   ]
  },
  {
   "cell_type": "markdown",
   "metadata": {},
   "source": [
    "Apply 5 condition dilatation to the Marrow Dura segment of the Image"
   ]
  },
  {
   "cell_type": "code",
   "execution_count": 42,
   "metadata": {},
   "outputs": [
    {
     "data": {
      "application/vnd.jupyter.widget-view+json": {
       "model_id": "c5970e8d00474625bb6ae7d1a29b7439",
       "version_major": 2,
       "version_minor": 0
      },
      "text/plain": [
       "interactive(children=(IntSlider(value=74, description='z', max=149), Output()), _dom_classes=('widget-interact…"
      ]
     },
     "metadata": {},
     "output_type": "display_data"
    }
   ],
   "source": [
    "img_MD_dilated = img_MD\n",
    "for i in range(5):\n",
    "    img_MD_dilated = ConditionalDilate(img_T1, img_MD_dilated, threshOtsuValue, kernelSize=1, kernelType=1)\n",
    "    #myshow(sitk.LabelOverlay(img_T1_255, img_MD_dilated), ['Conditional Dilate number ', i])\n",
    "myshow(sitk.LabelOverlay(img_T1_255, img_MD_dilated), ['Conditional Dilate'])"
   ]
  },
  {
   "cell_type": "markdown",
   "metadata": {},
   "source": [
    "Subtract Marrow Dura from White Matter and Grey Matter Images"
   ]
  },
  {
   "cell_type": "code",
   "execution_count": 43,
   "metadata": {},
   "outputs": [
    {
     "data": {
      "application/vnd.jupyter.widget-view+json": {
       "model_id": "7339d8292a6c401d9c5d122eb7664e18",
       "version_major": 2,
       "version_minor": 0
      },
      "text/plain": [
       "interactive(children=(IntSlider(value=74, description='z', max=149), Output()), _dom_classes=('widget-interact…"
      ]
     },
     "metadata": {},
     "output_type": "display_data"
    },
    {
     "data": {
      "application/vnd.jupyter.widget-view+json": {
       "model_id": "67ea3b9ecbdc4e439bc865e801d0cc96",
       "version_major": 2,
       "version_minor": 0
      },
      "text/plain": [
       "interactive(children=(IntSlider(value=74, description='z', max=149), Output()), _dom_classes=('widget-interact…"
      ]
     },
     "metadata": {},
     "output_type": "display_data"
    }
   ],
   "source": [
    "# add both images\n",
    "img_GM_or_MD = sitk.Or(img_GM, img_MD_dilated)\n",
    "# erase bits equal to Marrow Dura\n",
    "img_GM_2 = sitk.Xor(img_MD_dilated, img_GM_or_MD)\n",
    "myshow(sitk.LabelOverlay(img_T1_255, img_GM_2), \"GRAY MATTER\")\n",
    "\n",
    "# add both images\n",
    "img_WM_or_MD = sitk.Or(img_WM, img_MD_dilated)\n",
    "# erase bits equal to Marrow Dura\n",
    "img_WM_2 = sitk.Xor(img_MD_dilated, img_WM_or_MD)\n",
    "myshow(sitk.LabelOverlay(img_T1_255, img_WM_2), \"WHITE MATTER\")\n",
    "\n"
   ]
  },
  {
   "cell_type": "code",
   "execution_count": null,
   "metadata": {},
   "outputs": [],
   "source": []
  }
 ],
 "metadata": {
  "file_extension": ".py",
  "kernelspec": {
   "display_name": "Python 3",
   "language": "python",
   "name": "python3"
  },
  "language_info": {
   "codemirror_mode": {
    "name": "ipython",
    "version": 3
   },
   "file_extension": ".py",
   "mimetype": "text/x-python",
   "name": "python",
   "nbconvert_exporter": "python",
   "pygments_lexer": "ipython3",
   "version": "3.6.8"
  },
  "mimetype": "text/x-python",
  "name": "python",
  "npconvert_exporter": "python",
  "pygments_lexer": "ipython3",
  "version": 3
 },
 "nbformat": 4,
 "nbformat_minor": 2
}
