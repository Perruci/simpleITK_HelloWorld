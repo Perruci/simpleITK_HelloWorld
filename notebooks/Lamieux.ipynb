{
 "cells": [
  {
   "cell_type": "markdown",
   "metadata": {},
   "source": [
    " # Lamieux Method For Brain Image Segmentation\n",
    " This file is supposed to be read by an IDE which supports Jupyter Notebook editors. As a recomendation, the package [Jupyter](https://marketplace.visualstudio.com/items?itemName=donjayamanne.jupyter) for [Visual Studio Code IDE](https://code.visualstudio.com) is a great option."
   ]
  },
  {
   "cell_type": "markdown",
   "metadata": {},
   "source": [
    " ### Initial Setup"
   ]
  },
  {
   "cell_type": "code",
   "execution_count": 0,
   "metadata": {},
   "outputs": [],
   "source": [
    "from __future__ import print_function\n",
    "\n",
    "import matplotlib.pyplot as plt\n",
    "get_ipython().run_line_magic('matplotlib', 'inline')\n",
    "from ipywidgets import interact, FloatSlider\n",
    "\n",
    "import SimpleITK as sitk\n",
    "import numpy as np\n",
    "\n",
    "from myshow import myshow, myshow3d\n"
   ]
  },
  {
   "cell_type": "markdown",
   "metadata": {},
   "source": [
    " Loading data and initial visualization..."
   ]
  },
  {
   "cell_type": "code",
   "execution_count": 0,
   "metadata": {},
   "outputs": [],
   "source": [
    "img_T1 = sitk.ReadImage(\"../data/IXI002-Guys-0828-MPRAGESEN_-s256_-0301-00003-000001-01.nii\")\n",
    "\n",
    "# To visualize the labels image in RGB with needs a image with 0-255 range\n",
    "img_T1_255 = sitk.Cast(sitk.RescaleIntensity(img_T1), sitk.sitkUInt8)\n",
    "\n",
    "myshow3d(img_T1)\n"
   ]
  },
  {
   "cell_type": "markdown",
   "metadata": {},
   "source": [
    " ## Function definitions...."
   ]
  },
  {
   "cell_type": "code",
   "execution_count": 0,
   "metadata": {},
   "outputs": [],
   "source": [
    "def OstsuThresh(img):\n",
    "    otsuFilter = sitk.OtsuThresholdImageFilter()\n",
    "    otsuFilter.SetOutsideValue(255)\n",
    "    otsuFilter.SetInsideValue(0)\n",
    "    mask = otsuFilter.Execute(img)\n",
    "    return mask, otsuFilter.GetThreshold()\n",
    "\n",
    "def Threshold(img, threshValue):\n",
    "    thresh = sitk.BinaryThresholdImageFilter()\n",
    "    # defines threshold window\n",
    "    thresh.SetUpperThreshold(threshValue)\n",
    "    thresh.SetLowerThreshold(0)\n",
    "    # defines inner and outer values\n",
    "    thresh.SetOutsideValue(255)\n",
    "    thresh.SetInsideValue(0)\n",
    "    # apply threshold\n",
    "    return thresh.Execute(img)\n",
    "\n",
    "def InitialBrainDisconnection(img, threshOtsuValue, threshMult):\n",
    "    # Compute a mask based on ostu value\n",
    "    threshValue = threshMult * threshOtsuValue / 3\n",
    "    mask = Threshold(img, threshValue)\n",
    "    # Connectivity Components Analysis\n",
    "    filter = sitk.ConnectedComponentImageFilter()\n",
    "    components = filter.Execute(img, mask, False)\n",
    "    # reorder componends\n",
    "    filter = sitk.RelabelComponentImageFilter()\n",
    "    reorderedComponents = filter.Execute(components)\n",
    "    # get largest component size\n",
    "    component_size = filter.GetSizeOfObjectsInPixels()[0]\n",
    "    # get image largest component label (pixel value = 1)\n",
    "    dst = sitk.BinaryThreshold(reorderedComponents, 1, 1)\n",
    "    return dst, component_size\n",
    "\n",
    "''' Apply a morphological open operation to seg when img pixels are over threshValue '''\n",
    "def ConditionalOpening(img, seg, threshValue, kernelSize, kernelType):\n",
    "    mask = Threshold(img, threshValue)\n",
    "    maskedSeg = sitk.Mask(seg, mask)\n",
    "    filter = sitk.BinaryMorphologicalOpeningImageFilter()\n",
    "    filter.SetKernelType(kernelType)\n",
    "    filter.SetKernelRadius(kernelSize)\n",
    "    dst = filter.Execute(maskedSeg)\n",
    "    return dst\n"
   ]
  },
  {
   "cell_type": "markdown",
   "metadata": {},
   "source": [
    " ### Step 1: Calculating the Foreground Threshold Level"
   ]
  },
  {
   "cell_type": "code",
   "execution_count": 0,
   "metadata": {},
   "outputs": [],
   "source": [
    "mask, threshOtsuValue = OstsuThresh(img_T1)\n",
    "I_scf = threshOtsuValue / 3.5 + 6\n",
    "# To visualize the labels image in RGB with needs a image with 0-255 range\n",
    "myshow(sitk.LabelOverlay(img_T1_255, mask), \"Otsu Thresholding\")\n",
    "print('Threshold Otshu value: ', threshOtsuValue)\n",
    "print('Estimated cerebrospinal fluid (CSF) intensity : ', I_scf)\n"
   ]
  },
  {
   "cell_type": "markdown",
   "metadata": {},
   "source": [
    " ## Step 2 : Initial Brain Disconnection\n",
    " Performs a loop where each connected component volume found on the image is calculated."
   ]
  },
  {
   "cell_type": "code",
   "execution_count": 0,
   "metadata": {},
   "outputs": [],
   "source": [
    "# significant reduction fo 0.5\n",
    "significantReduction = 0.5\n",
    "# initialize variables\n",
    "threshMult = 1\n",
    "largestComponentSize = 0\n",
    "# first call of the interactive function\n",
    "largestComponentImg, largestComponentSize = InitialBrainDisconnection(img_T1, threshOtsuValue, threshMult)\n",
    "# initialize loop variables\n",
    "lastComponetSize = largestComponentSize\n",
    "MAX_INTERACTIONS = 20 # max interactions of the loop\n",
    "''' Loops InitialBrainDisconnection ultil a significant reduction of brain volume is observed '''\n",
    "while(largestComponentSize > (significantReduction * lastComponetSize) and threshMult < MAX_INTERACTIONS):\n",
    "    # updates loop break condition variables\n",
    "    threshMult = threshMult + 1\n",
    "    lastComponetSize = largestComponentSize\n",
    "    # calls initial brain disconnection\n",
    "    largestComponentImg, largestComponentSize = InitialBrainDisconnection(img_T1, threshOtsuValue, threshMult)\n",
    "\n",
    "print('Number of interactions: ', threshMult)\n",
    "myshow(sitk.LabelOverlay(img_T1_255, largestComponentImg), \"Largest Component Label\")"
   ]
  },
  {
   "cell_type": "code",
   "execution_count": 0,
   "metadata": {},
   "outputs": [],
   "source": [
    "# Apply Morphological Opening Operation\n",
    "kernelRadius = 3\n",
    "kernelType = 1 # theoretically sitkBall\n",
    "morphOpenSeg = ConditionalOpening(img_T1, largestComponentImg, threshOtsuValue, kernelRadius, kernelType)\n",
    "\n",
    "myshow(sitk.LabelOverlay(img_T1_255, morphOpenSeg), \"Conditionnal Morph Open\")\n"
   ]
  }
 ],
 "metadata": {
  "file_extension": ".py",
  "kernelspec": {
   "display_name": "Python 3",
   "language": "python",
   "name": "python3"
  },
  "language_info": {
   "codemirror_mode": {
    "name": "ipython",
    "version": 3
   },
   "file_extension": ".py",
   "mimetype": "text/x-python",
   "name": "python",
   "nbconvert_exporter": "python",
   "pygments_lexer": "ipython3",
   "version": "3.6.8"
  },
  "mimetype": "text/x-python",
  "name": "python",
  "npconvert_exporter": "python",
  "pygments_lexer": "ipython3",
  "version": 3
 },
 "nbformat": 4,
 "nbformat_minor": 2
}
