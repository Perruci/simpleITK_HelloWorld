{
 "cells": [
  {
   "cell_type": "markdown",
   "metadata": {},
   "source": [
    " # Lamieux Method For Brain Image Segmentation\n",
    " \n",
    "Replication of the results reported by Lamieux et al. : Fast, accurate, and reproducible automatic segmentation of the brain in T1-weighted volume MRI data."
   ]
  },
  {
   "cell_type": "markdown",
   "metadata": {},
   "source": [
    " ### Initial Setup"
   ]
  },
  {
   "cell_type": "code",
   "execution_count": 1,
   "metadata": {},
   "outputs": [],
   "source": [
    "from __future__ import print_function\n",
    "\n",
    "import matplotlib.pyplot as plt\n",
    "get_ipython().run_line_magic('matplotlib', 'inline')\n",
    "from ipywidgets import interact, FloatSlider\n",
    "\n",
    "import SimpleITK as sitk\n",
    "import numpy as np\n",
    "\n",
    "from myshow import myshow, myshow3d\n"
   ]
  },
  {
   "cell_type": "markdown",
   "metadata": {},
   "source": [
    " Loading data and initial visualization..."
   ]
  },
  {
   "cell_type": "code",
   "execution_count": 2,
   "metadata": {},
   "outputs": [
    {
     "data": {
      "application/vnd.jupyter.widget-view+json": {
       "model_id": "001c47a9005a4ea5ac5546b3cdc1ea5f",
       "version_major": 2,
       "version_minor": 0
      },
      "text/plain": [
       "interactive(children=(IntSlider(value=74, description='z', max=149), Output()), _dom_classes=('widget-interact…"
      ]
     },
     "metadata": {},
     "output_type": "display_data"
    }
   ],
   "source": [
    "img_T1 = sitk.ReadImage(\"../data/IXI002-Guys-0828-MPRAGESEN_-s256_-0301-00003-000001-01.nii\")\n",
    "\n",
    "# To visualize the labels image in RGB with needs a image with 0-255 range\n",
    "img_T1_255 = sitk.Cast(sitk.RescaleIntensity(img_T1), sitk.sitkUInt8)\n",
    "\n",
    "myshow3d(img_T1)\n"
   ]
  },
  {
   "cell_type": "markdown",
   "metadata": {},
   "source": [
    " ## Function definitions...."
   ]
  },
  {
   "cell_type": "code",
   "execution_count": 69,
   "metadata": {},
   "outputs": [],
   "source": [
    "def OstsuThresh(img):\n",
    "    otsuFilter = sitk.OtsuThresholdImageFilter()\n",
    "    otsuFilter.SetOutsideValue(255)\n",
    "    otsuFilter.SetInsideValue(0)\n",
    "    mask = otsuFilter.Execute(img)\n",
    "    return mask, otsuFilter.GetThreshold()\n",
    "\n",
    "def Threshold(img, threshValue):\n",
    "    thresh = sitk.BinaryThresholdImageFilter()\n",
    "    # defines threshold window\n",
    "    thresh.SetUpperThreshold(threshValue)\n",
    "    thresh.SetLowerThreshold(0)\n",
    "    # defines inner and outer values\n",
    "    thresh.SetOutsideValue(255)\n",
    "    thresh.SetInsideValue(0)\n",
    "    # apply threshold\n",
    "    return thresh.Execute(img)\n",
    "\n",
    "''' Performs step 2 : Initial Brain Disconnection'''\n",
    "def InitialBrainDisconnection(img, threshOtsuValue, threshMult):\n",
    "    # Compute a mask based on ostu value\n",
    "    threshValue = threshMult * threshOtsuValue / 3\n",
    "    mask = Threshold(img, threshValue)\n",
    "    # Apply Conditionnal Morphological Opening Operation\n",
    "    mask = MorphOpening(mask, kernelSize=3, kernelType=1)\n",
    "    # Connectivity Components Analysis\n",
    "    filter = sitk.ConnectedComponentImageFilter()\n",
    "    components = filter.Execute(img, mask, True)\n",
    "    # reorder componends\n",
    "    filter = sitk.RelabelComponentImageFilter()\n",
    "    reorderedComponents = filter.Execute(components)\n",
    "    # get largest component size\n",
    "    component_size = filter.GetSizeOfObjectsInPixels()[0]\n",
    "    # get image largest component label (pixel value = 1)\n",
    "    dst = sitk.BinaryThreshold(reorderedComponents, 1, 1)\n",
    "    \n",
    "    # debug...\n",
    "    #myshow(sitk.LabelOverlay(img_T1_255, dst), 'ThreshMult: ' + str(threshMult))\n",
    "    \n",
    "    return dst, component_size\n",
    "\n",
    "''' Apply a morphological opening operation '''\n",
    "def MorphOpening(seg, kernelSize, kernelType):\n",
    "    filter = sitk.BinaryMorphologicalOpeningImageFilter()\n",
    "    filter.SetKernelType(kernelType)\n",
    "    filter.SetKernelRadius(kernelSize)\n",
    "    dst = filter.Execute(seg)\n",
    "    return dst\n",
    "\n",
    "''' Apply a morphological open operation to seg when img pixels are over threshValue '''\n",
    "def ConditionnalOpening(img, seg, threshValue, kernelSize, kernelType):\n",
    "    mask = Threshold(img, threshValue)\n",
    "    maskedSeg = sitk.Mask(seg, mask)\n",
    "    filter = sitk.BinaryMorphologicalOpeningImageFilter()\n",
    "    filter.SetKernelType(kernelType)\n",
    "    filter.SetKernelRadius(kernelSize)\n",
    "    dst = filter.Execute(maskedSeg)\n",
    "    return dst\n",
    "\n",
    "''' Apply a morphological dilate operation to seg when img pixels are over threshValue '''\n",
    "def ConditionnalDilate(img, seg, threshValue, kernelSize, kernelType):\n",
    "    mask = Threshold(img, threshValue)\n",
    "    maskedSeg = sitk.Mask(seg, mask)\n",
    "    filter = sitk.BinaryDilateImageFilter()\n",
    "    filter.SetKernelType(kernelType)\n",
    "    filter.SetKernelRadius(kernelSize)\n",
    "    dst = filter.Execute(maskedSeg)\n",
    "    return dst\n",
    "\n",
    "''' Returns true for a vector composed only by zeros and false otherwise. '''\n",
    "def isAllZero(vec):\n",
    "    return not np.any(vec)\n",
    "\n",
    "''' Returns true if vector contains any zero value, false otherwise. '''\n",
    "def hasAnyZero(vec):\n",
    "    if np.size(np.nonzero(vec)) == np.size(vec):\n",
    "        return False\n",
    "    else:\n",
    "        return True\n"
   ]
  },
  {
   "cell_type": "markdown",
   "metadata": {},
   "source": [
    " ### Step 1: Calculating the Foreground Threshold Level"
   ]
  },
  {
   "cell_type": "code",
   "execution_count": 63,
   "metadata": {},
   "outputs": [
    {
     "data": {
      "application/vnd.jupyter.widget-view+json": {
       "model_id": "77dc44081fe94b1db5d26691e42960b9",
       "version_major": 2,
       "version_minor": 0
      },
      "text/plain": [
       "interactive(children=(IntSlider(value=74, description='z', max=149), Output()), _dom_classes=('widget-interact…"
      ]
     },
     "metadata": {},
     "output_type": "display_data"
    },
    {
     "name": "stdout",
     "output_type": "stream",
     "text": [
      "Threshold Otshu value:  179.0\n",
      "Estimated cerebrospinal fluid (CSF) intensity :  57.142857142857146\n"
     ]
    }
   ],
   "source": [
    "mask, threshOtsuValue = OstsuThresh(img_T1)\n",
    "I_scf = threshOtsuValue / 3.5 + 6\n",
    "# To visualize the labels image in RGB with needs a image with 0-255 range\n",
    "myshow(sitk.LabelOverlay(img_T1_255, mask), \"Otsu Thresholding\")\n",
    "print('Threshold Otshu value: ', threshOtsuValue)\n",
    "print('Estimated cerebrospinal fluid (CSF) intensity : ', I_scf)\n"
   ]
  },
  {
   "cell_type": "markdown",
   "metadata": {},
   "source": [
    " ## Step 2 : Initial Brain Disconnection\n",
    " Performs a loop where each connected component volume found on the image is calculated. The loop stops when the change observed in the volume is greater then 3 times the moving average of the last interactions."
   ]
  },
  {
   "cell_type": "code",
   "execution_count": 93,
   "metadata": {},
   "outputs": [
    {
     "name": "stdout",
     "output_type": "stream",
     "text": [
      "Number of interactions:  5\n"
     ]
    },
    {
     "data": {
      "application/vnd.jupyter.widget-view+json": {
       "model_id": "cce34e7b6def4b3e928e5e66ab95af45",
       "version_major": 2,
       "version_minor": 0
      },
      "text/plain": [
       "interactive(children=(IntSlider(value=74, description='z', max=149), Output()), _dom_classes=('widget-interact…"
      ]
     },
     "metadata": {},
     "output_type": "display_data"
    }
   ],
   "source": [
    "# initialize variables\n",
    "threshMult = 1\n",
    "largestComponentSize = 0\n",
    "# first call of the interactive function\n",
    "largestComponentImg, initialComponentSize = InitialBrainDisconnection(img_T1, threshOtsuValue, threshMult)\n",
    "# initialize loop variables\n",
    "largestComponentSize = initialComponentSize\n",
    "AverageWindowSize = 3 # equals to moving average window size\n",
    "MAX_INTERACTIONS = 10 # max interactions of the loop\n",
    "relativeDecreace = 0 # actual relative decreace\n",
    "relativeDecreacesVec = np.zeros(AverageWindowSize) # vector of past relative decreases\n",
    "\n",
    "''' Loops InitialBrainDisconnection ultil the reduction of brain volume is greater than the moving average of the last 3 interactions. \n",
    "If relativeDecreacesVec contains only zeroes, continue. \n",
    "'''\n",
    "while(relativeDecreace <= (np.mean(relativeDecreacesVec)) \n",
    "      or hasAnyZero(relativeDecreacesVec)):\n",
    "    # updates loop break condition variables ------------------------------------------------------------\n",
    "    movingAvgIdx = threshMult % AverageWindowSize  # modulo is the index of the vector\n",
    "    relativeDecreacesVec[movingAvgIdx] = relativeDecreace # add last decrease to past decreases vector\n",
    "    lastComponetSize = largestComponentSize # updates last component size\n",
    "    threshMult = threshMult + 1 # updates thresh multiplier\n",
    "    ''' If maximum interactions its overcome, exit loop '''\n",
    "    if threshMult >= MAX_INTERACTIONS:\n",
    "        break\n",
    "    # calls initial brain disconnection\n",
    "    largestComponentImg, largestComponentSize = InitialBrainDisconnection(img_T1, threshOtsuValue, threshMult)\n",
    "    # compute relative decrease\n",
    "    relativeDecreace = np.abs(largestComponentSize - lastComponetSize)/ lastComponetSize\n",
    "\n",
    "print('Number of interactions: ', threshMult)\n",
    "myshow(sitk.LabelOverlay(img_T1_255, largestComponentImg), \"Largest Component Label\")"
   ]
  },
  {
   "cell_type": "code",
   "execution_count": 80,
   "metadata": {},
   "outputs": [
    {
     "name": "stdout",
     "output_type": "stream",
     "text": [
      "0.23353208146377555\n",
      "[0.08717993 0.11772076 0.082724  ]\n"
     ]
    }
   ],
   "source": [
    "print(relativeDecreace)\n",
    "print(relativeDecreacesVec)"
   ]
  },
  {
   "cell_type": "code",
   "execution_count": 94,
   "metadata": {},
   "outputs": [
    {
     "data": {
      "application/vnd.jupyter.widget-view+json": {
       "model_id": "7566d497399648e7a5b86f44263643bf",
       "version_major": 2,
       "version_minor": 0
      },
      "text/plain": [
       "interactive(children=(IntSlider(value=74, description='z', max=149), Output()), _dom_classes=('widget-interact…"
      ]
     },
     "metadata": {},
     "output_type": "display_data"
    }
   ],
   "source": [
    "# Apply Conditionnal Morphological Dilate (reccomended : 3mm)\n",
    "dilated_largest_component = ConditionnalDilate(img_T1, largestComponentImg, threshOtsuValue, kernelSize=1, kernelType=1)\n",
    "myshow(sitk.LabelOverlay(img_T1_255, dilated_largest_component), \"Dilated Largest Component Label\")"
   ]
  },
  {
   "cell_type": "markdown",
   "metadata": {},
   "source": [
    "### Step 3: Initial Mara Dura Removal"
   ]
  },
  {
   "cell_type": "code",
   "execution_count": 95,
   "metadata": {},
   "outputs": [
    {
     "data": {
      "application/vnd.jupyter.widget-view+json": {
       "model_id": "0bdd1fb4047743d190db6dfcfc7614e2",
       "version_major": 2,
       "version_minor": 0
      },
      "text/plain": [
       "interactive(children=(IntSlider(value=74, description='z', max=149), Output()), _dom_classes=('widget-interact…"
      ]
     },
     "metadata": {},
     "output_type": "display_data"
    },
    {
     "name": "stdout",
     "output_type": "stream",
     "text": [
      "(137.6826400756836, 337.9482879638672, 496.49192810058594)\n"
     ]
    }
   ],
   "source": [
    "# call a multiple otsu threshold to separate WM, GM et SCF\n",
    "maskedImg = sitk.Mask(img_T1, dilated_largest_component)\n",
    "# call filter\n",
    "filter = sitk.OtsuMultipleThresholdsImageFilter()\n",
    "filter.SetNumberOfThresholds(3)\n",
    "labelOtsu =filter.Execute(maskedImg)\n",
    "multipleOtsu = filter.GetThresholds()\n",
    "\n",
    "myshow(sitk.LabelOverlay(img_T1_255, labelOtsu), \"Multiple OTSU\")\n",
    "print(multipleOtsu)"
   ]
  },
  {
   "cell_type": "code",
   "execution_count": 96,
   "metadata": {},
   "outputs": [
    {
     "data": {
      "application/vnd.jupyter.widget-view+json": {
       "model_id": "0b03403841704ee2800f8d239b837f7d",
       "version_major": 2,
       "version_minor": 0
      },
      "text/plain": [
       "interactive(children=(IntSlider(value=74, description='z', max=149), Output()), _dom_classes=('widget-interact…"
      ]
     },
     "metadata": {},
     "output_type": "display_data"
    },
    {
     "data": {
      "application/vnd.jupyter.widget-view+json": {
       "model_id": "44f07d54916a4fc7bd8b2191707dc374",
       "version_major": 2,
       "version_minor": 0
      },
      "text/plain": [
       "interactive(children=(IntSlider(value=74, description='z', max=149), Output()), _dom_classes=('widget-interact…"
      ]
     },
     "metadata": {},
     "output_type": "display_data"
    },
    {
     "data": {
      "application/vnd.jupyter.widget-view+json": {
       "model_id": "d65dbf02ccb5459ca93b43dceca8fd6d",
       "version_major": 2,
       "version_minor": 0
      },
      "text/plain": [
       "interactive(children=(IntSlider(value=74, description='z', max=149), Output()), _dom_classes=('widget-interact…"
      ]
     },
     "metadata": {},
     "output_type": "display_data"
    }
   ],
   "source": [
    "# Gray Matter is supposed to be the darkest\n",
    "img_GM = sitk.BinaryThreshold(labelOtsu, 1, 1)\n",
    "# White matter following\n",
    "img_WM = sitk.BinaryThreshold(labelOtsu, 2, 2)\n",
    "# Then Marrow Dura (brightest)\n",
    "img_MD = sitk.BinaryThreshold(labelOtsu, 3, 3)\n",
    "\n",
    "myshow(sitk.LabelOverlay(img_T1_255, img_GM), \"GRAY MATTER\")\n",
    "\n",
    "myshow(sitk.LabelOverlay(img_T1_255, img_WM), \"WHITE MATTER\")\n",
    "\n",
    "myshow(sitk.LabelOverlay(img_T1_255, img_MD), \"MARROW DURA\")\n"
   ]
  },
  {
   "cell_type": "markdown",
   "metadata": {},
   "source": [
    "Apply 5 condition dilatation to the Marrow Dura segment of the Image"
   ]
  },
  {
   "cell_type": "code",
   "execution_count": 97,
   "metadata": {},
   "outputs": [
    {
     "data": {
      "application/vnd.jupyter.widget-view+json": {
       "model_id": "4406f096fcea457fbc8f5aeeadffdb85",
       "version_major": 2,
       "version_minor": 0
      },
      "text/plain": [
       "interactive(children=(IntSlider(value=74, description='z', max=149), Output()), _dom_classes=('widget-interact…"
      ]
     },
     "metadata": {},
     "output_type": "display_data"
    }
   ],
   "source": [
    "img_MD_dilated = img_MD\n",
    "for i in range(5):\n",
    "    img_MD_dilated = ConditionnalDilate(img_T1, img_MD_dilated, threshOtsuValue, kernelSize=1, kernelType=1)\n",
    "    #myshow(sitk.LabelOverlay(img_T1_255, img_MD_dilated), ['Conditional Dilate number ', i])\n",
    "myshow(sitk.LabelOverlay(img_T1_255, img_MD_dilated), ['Conditional Dilate'])"
   ]
  },
  {
   "cell_type": "markdown",
   "metadata": {},
   "source": [
    "Subtract Marrow Dura from White Matter and Grey Matter Images"
   ]
  },
  {
   "cell_type": "code",
   "execution_count": 98,
   "metadata": {},
   "outputs": [
    {
     "data": {
      "application/vnd.jupyter.widget-view+json": {
       "model_id": "0fcd4fb2452644d4aa91ec69274f7a5c",
       "version_major": 2,
       "version_minor": 0
      },
      "text/plain": [
       "interactive(children=(IntSlider(value=74, description='z', max=149), Output()), _dom_classes=('widget-interact…"
      ]
     },
     "metadata": {},
     "output_type": "display_data"
    },
    {
     "data": {
      "application/vnd.jupyter.widget-view+json": {
       "model_id": "b6ef1fab8ad94d08bfe59d6620edc5a2",
       "version_major": 2,
       "version_minor": 0
      },
      "text/plain": [
       "interactive(children=(IntSlider(value=74, description='z', max=149), Output()), _dom_classes=('widget-interact…"
      ]
     },
     "metadata": {},
     "output_type": "display_data"
    }
   ],
   "source": [
    "# add both images\n",
    "img_GM_or_MD = sitk.Or(img_GM, img_MD_dilated)\n",
    "# erase bits equal to Marrow Dura\n",
    "img_GM_2 = sitk.Xor(img_MD_dilated, img_GM_or_MD)\n",
    "myshow(sitk.LabelOverlay(img_T1_255, img_GM_2), \"GRAY MATTER\")\n",
    "\n",
    "# add both images\n",
    "img_WM_or_MD = sitk.Or(img_WM, img_MD_dilated)\n",
    "# erase bits equal to Marrow Dura\n",
    "img_WM_2 = sitk.Xor(img_MD_dilated, img_WM_or_MD)\n",
    "myshow(sitk.LabelOverlay(img_T1_255, img_WM_2), \"WHITE MATTER\")\n"
   ]
  },
  {
   "cell_type": "code",
   "execution_count": 99,
   "metadata": {},
   "outputs": [
    {
     "data": {
      "application/vnd.jupyter.widget-view+json": {
       "model_id": "f445fe438f174474a72879264665a59c",
       "version_major": 2,
       "version_minor": 0
      },
      "text/plain": [
       "interactive(children=(IntSlider(value=74, description='z', max=149), Output()), _dom_classes=('widget-interact…"
      ]
     },
     "metadata": {},
     "output_type": "display_data"
    }
   ],
   "source": [
    "# add white matter and gray matter\n",
    "seg = sitk.Or(img_WM_2, img_GM_2)\n",
    "myshow(sitk.LabelOverlay(img_T1_255, seg), \"WM + GM\")"
   ]
  },
  {
   "cell_type": "markdown",
   "metadata": {},
   "source": [
    "## Step 4: Secondary Marrow Dura Removal"
   ]
  },
  {
   "cell_type": "code",
   "execution_count": 100,
   "metadata": {},
   "outputs": [
    {
     "data": {
      "application/vnd.jupyter.widget-view+json": {
       "model_id": "4cdbfb0cbea1480181200a1ce121d861",
       "version_major": 2,
       "version_minor": 0
      },
      "text/plain": [
       "interactive(children=(IntSlider(value=74, description='z', max=149), Output()), _dom_classes=('widget-interact…"
      ]
     },
     "metadata": {},
     "output_type": "display_data"
    },
    {
     "name": "stdout",
     "output_type": "stream",
     "text": [
      "(141.44854736328125, 342.96429443359375)\n"
     ]
    }
   ],
   "source": [
    "# Apply Otsu threshold Again, to differentiate White and Gray Matter\n",
    "maskedImg = sitk.Mask(img_T1, seg)\n",
    "# call filter\n",
    "filter = sitk.OtsuMultipleThresholdsImageFilter()\n",
    "filter.SetNumberOfThresholds(2) # GM, WM\n",
    "labelOtsu =filter.Execute(maskedImg)\n",
    "multipleOtsu = filter.GetThresholds()\n",
    "myshow(sitk.LabelOverlay(img_T1_255, labelOtsu), \"Multiple OTSU\")\n",
    "print(multipleOtsu)"
   ]
  },
  {
   "cell_type": "code",
   "execution_count": 101,
   "metadata": {},
   "outputs": [
    {
     "name": "stdout",
     "output_type": "stream",
     "text": [
      "Gray matter statistics:\n",
      " mean:  76.00076153082007  sig:  148.6263618217066\n",
      "White matter statistics:\n",
      " mean:  283.82790883864806  sig:  48.01656438939276\n"
     ]
    }
   ],
   "source": [
    "# Compute Staistics regarding each image label\n",
    "statisticFilter = sitk.LabelStatisticsImageFilter()\n",
    "statisticFilter.Execute(img_T1, labelOtsu)\n",
    "# get data for Gray Matter (lower brightness)\n",
    "mean_GM = statisticFilter.GetMean(0)\n",
    "sig_GM = statisticFilter.GetSigma(0)\n",
    "print('Gray matter statistics:\\n mean: ', mean_GM, ' sig: ', sig_GM )\n",
    "# get data for White Matter (higher brightness)\n",
    "mean_WM = statisticFilter.GetMean(1)\n",
    "sig_WM = statisticFilter.GetSigma(1)\n",
    "print('White matter statistics:\\n mean: ', mean_WM, ' sig: ', sig_WM )"
   ]
  },
  {
   "cell_type": "code",
   "execution_count": 102,
   "metadata": {},
   "outputs": [
    {
     "data": {
      "application/vnd.jupyter.widget-view+json": {
       "model_id": "024c18fd84d646739c0d4fe6189aa018",
       "version_major": 2,
       "version_minor": 0
      },
      "text/plain": [
       "interactive(children=(IntSlider(value=74, description='z', max=149), Output()), _dom_classes=('widget-interact…"
      ]
     },
     "metadata": {},
     "output_type": "display_data"
    }
   ],
   "source": [
    "# Filter all voxels with intensity > mean_WM + 2.5 * sig_WM\n",
    "higher_thresh = mean_WM + 2.5 * sig_WM\n",
    "print('Higher threshold : ', higher_thresh)\n",
    "seg = sitk.BinaryThreshold(maskedImg, lowerThreshold=1.0, upperThreshold=higher_thresh)\n",
    "myshow(sitk.LabelOverlay(img_T1_255, seg), \"Bright voxels removed\")"
   ]
  },
  {
   "cell_type": "code",
   "execution_count": 106,
   "metadata": {},
   "outputs": [
    {
     "data": {
      "application/vnd.jupyter.widget-view+json": {
       "model_id": "451d5bfacf4e4eb58dc3c64e80910d11",
       "version_major": 2,
       "version_minor": 0
      },
      "text/plain": [
       "interactive(children=(IntSlider(value=74, description='z', max=149), Output()), _dom_classes=('widget-interact…"
      ]
     },
     "metadata": {},
     "output_type": "display_data"
    }
   ],
   "source": [
    "# Extract largest component\n",
    "filter = sitk.ConnectedComponentImageFilter()\n",
    "components = filter.Execute(img_T1, seg, True)\n",
    "# reorder componends\n",
    "filter = sitk.RelabelComponentImageFilter()\n",
    "reorderedComponents = filter.Execute(components)\n",
    "# get image largest component label (pixel value = 1)\n",
    "seg_connected = sitk.BinaryThreshold(reorderedComponents, 1, 1)\n",
    "myshow(sitk.LabelOverlay(img_T1_255, seg_connected), \"Largest connected\")"
   ]
  },
  {
   "cell_type": "code",
   "execution_count": 107,
   "metadata": {},
   "outputs": [
    {
     "data": {
      "application/vnd.jupyter.widget-view+json": {
       "model_id": "69838a4a3fd44a5a972aa6acb04de76b",
       "version_major": 2,
       "version_minor": 0
      },
      "text/plain": [
       "interactive(children=(IntSlider(value=74, description='z', max=149), Output()), _dom_classes=('widget-interact…"
      ]
     },
     "metadata": {},
     "output_type": "display_data"
    }
   ],
   "source": [
    "# Apply conditionnal dilatation:\n",
    "seg_dilated = ConditionnalDilate(img_T1, seg_connected, threshOtsuValue, kernelSize=3, kernelType=1)\n",
    "myshow(sitk.LabelOverlay(img_T1_255, seg_dilated), \"Conditionnal Dilate\")"
   ]
  },
  {
   "cell_type": "markdown",
   "metadata": {},
   "source": [
    "## Step 5: Removal of Major Venous Sinuses"
   ]
  },
  {
   "cell_type": "code",
   "execution_count": 125,
   "metadata": {},
   "outputs": [
    {
     "name": "stdout",
     "output_type": "stream",
     "text": [
      "Lower threshold :  38.84417107539342\n"
     ]
    },
    {
     "data": {
      "application/vnd.jupyter.widget-view+json": {
       "model_id": "b4a810c1819f402187a57674682d5989",
       "version_major": 2,
       "version_minor": 0
      },
      "text/plain": [
       "interactive(children=(IntSlider(value=74, description='z', max=149), Output()), _dom_classes=('widget-interact…"
      ]
     },
     "metadata": {},
     "output_type": "display_data"
    }
   ],
   "source": [
    "# Apply a low value threshold to remove structures close to GM\n",
    "lower_thresh = mean_GM - 2.5 * sig_GM * 0.1\n",
    "print('Lower threshold : ', lower_thresh)\n",
    "seg = sitk.BinaryThreshold(maskedImg, lowerThreshold=lower_thresh, upperThreshold=10000)\n",
    "myshow(sitk.LabelOverlay(img_T1_255, seg), \"Dark structures removed\")"
   ]
  },
  {
   "cell_type": "code",
   "execution_count": 120,
   "metadata": {},
   "outputs": [
    {
     "data": {
      "application/vnd.jupyter.widget-view+json": {
       "model_id": "2776d746300448c7a9046466ddbca0f8",
       "version_major": 2,
       "version_minor": 0
      },
      "text/plain": [
       "interactive(children=(IntSlider(value=74, description='z', max=149), Output()), _dom_classes=('widget-interact…"
      ]
     },
     "metadata": {},
     "output_type": "display_data"
    }
   ],
   "source": [
    "seg_open = MorphOpening(seg, 2, 1)\n",
    "myshow(sitk.LabelOverlay(img_T1_255, seg_open), \"Morphological Open\")"
   ]
  },
  {
   "cell_type": "markdown",
   "metadata": {},
   "source": [
    "## Step 6: Conditional Gray-Level Dilatation or Erosion"
   ]
  },
  {
   "cell_type": "code",
   "execution_count": 117,
   "metadata": {},
   "outputs": [
    {
     "name": "stdout",
     "output_type": "stream",
     "text": [
      "66.57180933683861\n",
      "179.0\n"
     ]
    }
   ],
   "source": [
    "thresh_final = (I_scf + mean_GM)/2\n",
    "print(thresh_final)\n",
    "print(threshOtsuValue)"
   ]
  },
  {
   "cell_type": "code",
   "execution_count": 118,
   "metadata": {},
   "outputs": [
    {
     "data": {
      "application/vnd.jupyter.widget-view+json": {
       "model_id": "6585b4bee5724d64b3d980b60e9d8a60",
       "version_major": 2,
       "version_minor": 0
      },
      "text/plain": [
       "interactive(children=(IntSlider(value=74, description='z', max=149), Output()), _dom_classes=('widget-interact…"
      ]
     },
     "metadata": {},
     "output_type": "display_data"
    }
   ],
   "source": [
    "# if thresh_final <= threshOtsuValue perform dilatation\n",
    "if thresh_final <= threshOtsuValue:\n",
    "    seg_final = ConditionnalDilate(img_T1, seg_open, threshOtsuValue, kernelSize=1, kernelType=1)\n",
    "else:\n",
    "    seg_final = BinaryErode(seg_open)\n",
    "\n",
    "myshow(sitk.LabelOverlay(img_T1_255, seg_final), \"Final Segmentation\")"
   ]
  },
  {
   "cell_type": "code",
   "execution_count": null,
   "metadata": {},
   "outputs": [],
   "source": []
  }
 ],
 "metadata": {
  "file_extension": ".py",
  "kernelspec": {
   "display_name": "Python 3",
   "language": "python",
   "name": "python3"
  },
  "language_info": {
   "codemirror_mode": {
    "name": "ipython",
    "version": 3
   },
   "file_extension": ".py",
   "mimetype": "text/x-python",
   "name": "python",
   "nbconvert_exporter": "python",
   "pygments_lexer": "ipython3",
   "version": "3.6.8"
  },
  "mimetype": "text/x-python",
  "name": "python",
  "npconvert_exporter": "python",
  "pygments_lexer": "ipython3",
  "version": 3
 },
 "nbformat": 4,
 "nbformat_minor": 2
}
