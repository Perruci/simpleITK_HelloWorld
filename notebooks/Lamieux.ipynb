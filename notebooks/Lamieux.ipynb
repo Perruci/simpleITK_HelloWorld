{
 "cells": [
  {
   "cell_type": "markdown",
   "metadata": {},
   "source": [
    " # Lamieux Method For Brain Image Segmentation\n",
    " \n",
    "Replication of the results reported by Lamieux et al. : Fast, accurate, and reproducible automatic segmentation of the brain in T1-weighted volume MRI data."
   ]
  },
  {
   "cell_type": "markdown",
   "metadata": {},
   "source": [
    " ### Initial Setup"
   ]
  },
  {
   "cell_type": "code",
   "execution_count": 184,
   "metadata": {},
   "outputs": [],
   "source": [
    "from __future__ import print_function\n",
    "\n",
    "import matplotlib.pyplot as plt\n",
    "get_ipython().run_line_magic('matplotlib', 'inline')\n",
    "from ipywidgets import interact, FloatSlider\n",
    "\n",
    "import SimpleITK as sitk\n",
    "import numpy as np\n",
    "\n",
    "from myshow import myshow, myshow3d\n"
   ]
  },
  {
   "cell_type": "markdown",
   "metadata": {},
   "source": [
    " Loading data and initial visualization..."
   ]
  },
  {
   "cell_type": "code",
   "execution_count": 185,
   "metadata": {},
   "outputs": [
    {
     "data": {
      "application/vnd.jupyter.widget-view+json": {
       "model_id": "c2e5dbc702584832906ce948df867808",
       "version_major": 2,
       "version_minor": 0
      },
      "text/plain": [
       "interactive(children=(IntSlider(value=74, description='z', max=149), Output()), _dom_classes=('widget-interact…"
      ]
     },
     "metadata": {},
     "output_type": "display_data"
    }
   ],
   "source": [
    "img_T1 = sitk.ReadImage(\"../data/IXI002-Guys-0828-MPRAGESEN_-s256_-0301-00003-000001-01.nii\")\n",
    "\n",
    "# To visualize the labels image in RGB with needs a image with 0-255 range\n",
    "img_T1_255 = sitk.Cast(sitk.RescaleIntensity(img_T1), sitk.sitkUInt8)\n",
    "\n",
    "myshow3d(img_T1)\n"
   ]
  },
  {
   "cell_type": "markdown",
   "metadata": {},
   "source": [
    " ## Function definitions...."
   ]
  },
  {
   "cell_type": "code",
   "execution_count": 186,
   "metadata": {},
   "outputs": [],
   "source": [
    "def OstsuThresh(img):\n",
    "    otsuFilter = sitk.OtsuThresholdImageFilter()\n",
    "    otsuFilter.SetOutsideValue(255)\n",
    "    otsuFilter.SetInsideValue(0)\n",
    "    mask = otsuFilter.Execute(img)\n",
    "    return mask, otsuFilter.GetThreshold()\n",
    "\n",
    "def Threshold(img, threshValue):\n",
    "    thresh = sitk.BinaryThresholdImageFilter()\n",
    "    # defines threshold window\n",
    "    thresh.SetUpperThreshold(threshValue)\n",
    "    thresh.SetLowerThreshold(0)\n",
    "    # defines inner and outer values\n",
    "    thresh.SetOutsideValue(255)\n",
    "    thresh.SetInsideValue(0)\n",
    "    # apply threshold\n",
    "    return thresh.Execute(img)\n",
    "\n",
    "''' Performs step 2 : Initial Brain Disconnection'''\n",
    "def InitialBrainDisconnection(img, threshOtsuValue, threshMult):\n",
    "    # Compute a mask based on ostu value\n",
    "    threshValue = threshMult * threshOtsuValue / 3\n",
    "    mask = Threshold(img, threshValue)\n",
    "    # Apply Conditionnal Morphological Opening Operation\n",
    "    mask = MorphOpening(mask, kernelSize=3, kernelType=1)\n",
    "    # Connectivity Components Analysis\n",
    "    filter = sitk.ConnectedComponentImageFilter()\n",
    "    components = filter.Execute(img, mask, True)\n",
    "    # reorder componends\n",
    "    filter = sitk.RelabelComponentImageFilter()\n",
    "    reorderedComponents = filter.Execute(components)\n",
    "    # get largest component size\n",
    "    component_size = filter.GetSizeOfObjectsInPixels()[0]\n",
    "    # get image largest component label (pixel value = 1)\n",
    "    dst = sitk.BinaryThreshold(reorderedComponents, 1, 1)\n",
    "    \n",
    "    # debug...\n",
    "    #myshow(sitk.LabelOverlay(img_T1_255, dst), 'ThreshMult: ' + str(threshMult))\n",
    "    \n",
    "    return dst, component_size\n",
    "\n",
    "''' Apply a morphological opening operation '''\n",
    "def MorphOpening(seg, kernelSize, kernelType):\n",
    "    filter = sitk.BinaryMorphologicalOpeningImageFilter()\n",
    "    filter.SetKernelType(kernelType)\n",
    "    filter.SetKernelRadius(kernelSize)\n",
    "    dst = filter.Execute(seg)\n",
    "    return dst\n",
    "\n",
    "''' Apply a morphological open operation to seg when img pixels are over threshValue '''\n",
    "def ConditionnalOpening(img, seg, threshValue, kernelSize, kernelType):\n",
    "    mask = Threshold(img, threshValue)\n",
    "    maskedSeg = sitk.Mask(seg, mask)\n",
    "    filter = sitk.BinaryMorphologicalOpeningImageFilter()\n",
    "    filter.SetKernelType(kernelType)\n",
    "    filter.SetKernelRadius(kernelSize)\n",
    "    dst = filter.Execute(maskedSeg)\n",
    "    return dst\n",
    "\n",
    "''' Apply a morphological dilate operation to seg when img pixels are over threshValue '''\n",
    "def ConditionnalDilate(img, seg, threshValue, kernelSize, kernelType):\n",
    "    mask = Threshold(img, threshValue)\n",
    "    maskedSeg = sitk.Mask(seg, mask)\n",
    "    filter = sitk.BinaryDilateImageFilter()\n",
    "    filter.SetKernelType(kernelType)\n",
    "    filter.SetKernelRadius(kernelSize)\n",
    "    dst = filter.Execute(maskedSeg)\n",
    "    return dst\n",
    "\n",
    "''' Returns true for a vector composed only by zeros and false otherwise. '''\n",
    "def isAllZero(vec):\n",
    "    return not np.any(vec)\n",
    "\n",
    "''' Returns true if vector contains any zero value, false otherwise. '''\n",
    "def hasAnyZero(vec):\n",
    "    if np.size(np.nonzero(vec)) == np.size(vec):\n",
    "        return False\n",
    "    else:\n",
    "        return True\n"
   ]
  },
  {
   "cell_type": "markdown",
   "metadata": {},
   "source": [
    " ### Step 1: Calculating the Foreground Threshold Level"
   ]
  },
  {
   "cell_type": "code",
   "execution_count": 187,
   "metadata": {},
   "outputs": [
    {
     "data": {
      "application/vnd.jupyter.widget-view+json": {
       "model_id": "9f46e075ff5549fda602f6e4b68f0036",
       "version_major": 2,
       "version_minor": 0
      },
      "text/plain": [
       "interactive(children=(IntSlider(value=74, description='z', max=149), Output()), _dom_classes=('widget-interact…"
      ]
     },
     "metadata": {},
     "output_type": "display_data"
    },
    {
     "name": "stdout",
     "output_type": "stream",
     "text": [
      "Threshold Otshu value:  179.0\n",
      "Estimated cerebrospinal fluid (CSF) intensity :  57.142857142857146\n"
     ]
    }
   ],
   "source": [
    "mask, threshOtsuValue = OstsuThresh(img_T1)\n",
    "I_scf = threshOtsuValue / 3.5 + 6\n",
    "# To visualize the labels image in RGB with needs a image with 0-255 range\n",
    "myshow(sitk.LabelOverlay(img_T1_255, mask), \"Otsu Thresholding\")\n",
    "print('Threshold Otshu value: ', threshOtsuValue)\n",
    "print('Estimated cerebrospinal fluid (CSF) intensity : ', I_scf)\n"
   ]
  },
  {
   "cell_type": "markdown",
   "metadata": {},
   "source": [
    " ## Step 2 : Initial Brain Disconnection\n",
    " Performs a loop where each connected component volume found on the image is calculated. The loop stops when the change observed in the volume is greater then 3 times the moving average of the last interactions."
   ]
  },
  {
   "cell_type": "code",
   "execution_count": 188,
   "metadata": {},
   "outputs": [
    {
     "name": "stdout",
     "output_type": "stream",
     "text": [
      "Number of interactions:  5\n"
     ]
    },
    {
     "data": {
      "application/vnd.jupyter.widget-view+json": {
       "model_id": "78e1513832de4dc4995418909c21b57f",
       "version_major": 2,
       "version_minor": 0
      },
      "text/plain": [
       "interactive(children=(IntSlider(value=74, description='z', max=149), Output()), _dom_classes=('widget-interact…"
      ]
     },
     "metadata": {},
     "output_type": "display_data"
    }
   ],
   "source": [
    "# initialize variables\n",
    "threshMult = 1\n",
    "largestComponentSize = 0\n",
    "# first call of the interactive function\n",
    "largestComponentImg, initialComponentSize = InitialBrainDisconnection(img_T1, threshOtsuValue, threshMult)\n",
    "# initialize loop variables\n",
    "largestComponentSize = initialComponentSize\n",
    "AverageWindowSize = 3 # equals to moving average window size\n",
    "MAX_INTERACTIONS = 10 # max interactions of the loop\n",
    "relativeDecreace = 0 # actual relative decreace\n",
    "relativeDecreacesVec = np.zeros(AverageWindowSize) # vector of past relative decreases\n",
    "\n",
    "''' Loops InitialBrainDisconnection ultil the reduction of brain volume is greater than the moving average of the last 3 interactions. \n",
    "If relativeDecreacesVec contains only zeroes, continue. \n",
    "'''\n",
    "while(relativeDecreace <= (np.mean(relativeDecreacesVec)) \n",
    "      or hasAnyZero(relativeDecreacesVec)):\n",
    "    # updates loop break condition variables ------------------------------------------------------------\n",
    "    movingAvgIdx = threshMult % AverageWindowSize  # modulo is the index of the vector\n",
    "    relativeDecreacesVec[movingAvgIdx] = relativeDecreace # add last decrease to past decreases vector\n",
    "    lastComponetSize = largestComponentSize # updates last component size\n",
    "    threshMult = threshMult + 1 # updates thresh multiplier\n",
    "    ''' If maximum interactions its overcome, exit loop '''\n",
    "    if threshMult >= MAX_INTERACTIONS:\n",
    "        break\n",
    "    # calls initial brain disconnection\n",
    "    largestComponentImg, largestComponentSize = InitialBrainDisconnection(img_T1, threshOtsuValue, threshMult)\n",
    "    # compute relative decrease\n",
    "    relativeDecreace = np.abs(largestComponentSize - lastComponetSize)/ lastComponetSize\n",
    "\n",
    "print('Number of interactions: ', threshMult)\n",
    "myshow(sitk.LabelOverlay(img_T1_255, largestComponentImg), \"Largest Component Label\")"
   ]
  },
  {
   "cell_type": "code",
   "execution_count": 189,
   "metadata": {},
   "outputs": [
    {
     "name": "stdout",
     "output_type": "stream",
     "text": [
      "0.23353208146377555\n",
      "[0.08717993 0.11772076 0.082724  ]\n"
     ]
    }
   ],
   "source": [
    "print(relativeDecreace)\n",
    "print(relativeDecreacesVec)"
   ]
  },
  {
   "cell_type": "code",
   "execution_count": 190,
   "metadata": {},
   "outputs": [
    {
     "data": {
      "application/vnd.jupyter.widget-view+json": {
       "model_id": "70995dfcd7924000bb3ac6b88b45646e",
       "version_major": 2,
       "version_minor": 0
      },
      "text/plain": [
       "interactive(children=(IntSlider(value=74, description='z', max=149), Output()), _dom_classes=('widget-interact…"
      ]
     },
     "metadata": {},
     "output_type": "display_data"
    }
   ],
   "source": [
    "# Apply Conditionnal Morphological Dilate (reccomended : 3mm)\n",
    "dilated_largest_component = ConditionnalDilate(img_T1, largestComponentImg, threshOtsuValue, kernelSize=1, kernelType=1)\n",
    "myshow(sitk.LabelOverlay(img_T1_255, dilated_largest_component), \"Dilated Largest Component Label\")"
   ]
  },
  {
   "cell_type": "markdown",
   "metadata": {},
   "source": [
    "### Step 3: Initial Mara Dura Removal"
   ]
  },
  {
   "cell_type": "code",
   "execution_count": 191,
   "metadata": {},
   "outputs": [
    {
     "data": {
      "application/vnd.jupyter.widget-view+json": {
       "model_id": "dda14c2f14534c0380e01d3f9ef9fc72",
       "version_major": 2,
       "version_minor": 0
      },
      "text/plain": [
       "interactive(children=(IntSlider(value=74, description='z', max=149), Output()), _dom_classes=('widget-interact…"
      ]
     },
     "metadata": {},
     "output_type": "display_data"
    },
    {
     "name": "stdout",
     "output_type": "stream",
     "text": [
      "(137.6826400756836, 337.9482879638672, 496.49192810058594)\n"
     ]
    }
   ],
   "source": [
    "# call a multiple otsu threshold to separate WM, GM et SCF\n",
    "maskedImg = sitk.Mask(img_T1, dilated_largest_component)\n",
    "# call filter\n",
    "filter = sitk.OtsuMultipleThresholdsImageFilter()\n",
    "filter.SetNumberOfThresholds(3)\n",
    "labelOtsu =filter.Execute(maskedImg)\n",
    "multipleOtsu = filter.GetThresholds()\n",
    "\n",
    "myshow(sitk.LabelOverlay(img_T1_255, labelOtsu), \"Multiple OTSU\")\n",
    "print(multipleOtsu)"
   ]
  },
  {
   "cell_type": "code",
   "execution_count": 192,
   "metadata": {},
   "outputs": [
    {
     "data": {
      "application/vnd.jupyter.widget-view+json": {
       "model_id": "aeecd2d970774a879c421266f166870f",
       "version_major": 2,
       "version_minor": 0
      },
      "text/plain": [
       "interactive(children=(IntSlider(value=74, description='z', max=149), Output()), _dom_classes=('widget-interact…"
      ]
     },
     "metadata": {},
     "output_type": "display_data"
    },
    {
     "data": {
      "application/vnd.jupyter.widget-view+json": {
       "model_id": "b623f5fe3c8e4933ab7c83e1100b563c",
       "version_major": 2,
       "version_minor": 0
      },
      "text/plain": [
       "interactive(children=(IntSlider(value=74, description='z', max=149), Output()), _dom_classes=('widget-interact…"
      ]
     },
     "metadata": {},
     "output_type": "display_data"
    },
    {
     "data": {
      "application/vnd.jupyter.widget-view+json": {
       "model_id": "a8be701338a24f10a4f7c433d0c9146f",
       "version_major": 2,
       "version_minor": 0
      },
      "text/plain": [
       "interactive(children=(IntSlider(value=74, description='z', max=149), Output()), _dom_classes=('widget-interact…"
      ]
     },
     "metadata": {},
     "output_type": "display_data"
    }
   ],
   "source": [
    "# Gray Matter is supposed to be the darkest\n",
    "img_GM = sitk.BinaryThreshold(labelOtsu, 1, 1)\n",
    "# White matter following\n",
    "img_WM = sitk.BinaryThreshold(labelOtsu, 2, 2)\n",
    "# Then Marrow Dura (brightest)\n",
    "img_MD = sitk.BinaryThreshold(labelOtsu, 3, 3)\n",
    "\n",
    "myshow(sitk.LabelOverlay(img_T1_255, img_GM), \"GRAY MATTER\")\n",
    "\n",
    "myshow(sitk.LabelOverlay(img_T1_255, img_WM), \"WHITE MATTER\")\n",
    "\n",
    "myshow(sitk.LabelOverlay(img_T1_255, img_MD), \"MARROW DURA\")\n"
   ]
  },
  {
   "cell_type": "markdown",
   "metadata": {},
   "source": [
    "Apply 5 condition dilatation to the Marrow Dura segment of the Image"
   ]
  },
  {
   "cell_type": "code",
   "execution_count": 193,
   "metadata": {},
   "outputs": [
    {
     "data": {
      "application/vnd.jupyter.widget-view+json": {
       "model_id": "1167569885064e51bb7e444a987bafb8",
       "version_major": 2,
       "version_minor": 0
      },
      "text/plain": [
       "interactive(children=(IntSlider(value=74, description='z', max=149), Output()), _dom_classes=('widget-interact…"
      ]
     },
     "metadata": {},
     "output_type": "display_data"
    }
   ],
   "source": [
    "img_MD_dilated = img_MD\n",
    "for i in range(5):\n",
    "    img_MD_dilated = ConditionnalDilate(img_T1, img_MD_dilated, threshOtsuValue, kernelSize=1, kernelType=1)\n",
    "    #myshow(sitk.LabelOverlay(img_T1_255, img_MD_dilated), ['Conditional Dilate number ', i])\n",
    "myshow(sitk.LabelOverlay(img_T1_255, img_MD_dilated), ['Conditional Dilate'])"
   ]
  },
  {
   "cell_type": "markdown",
   "metadata": {},
   "source": [
    "Subtract Marrow Dura from White Matter and Grey Matter Images"
   ]
  },
  {
   "cell_type": "code",
   "execution_count": 195,
   "metadata": {},
   "outputs": [
    {
     "data": {
      "application/vnd.jupyter.widget-view+json": {
       "model_id": "36fd4f22c7064cdf987ead5dd61b4de3",
       "version_major": 2,
       "version_minor": 0
      },
      "text/plain": [
       "interactive(children=(IntSlider(value=74, description='z', max=149), Output()), _dom_classes=('widget-interact…"
      ]
     },
     "metadata": {},
     "output_type": "display_data"
    },
    {
     "data": {
      "application/vnd.jupyter.widget-view+json": {
       "model_id": "87a493b311f34d7e91ab9eb6fe5d1b56",
       "version_major": 2,
       "version_minor": 0
      },
      "text/plain": [
       "interactive(children=(IntSlider(value=74, description='z', max=149), Output()), _dom_classes=('widget-interact…"
      ]
     },
     "metadata": {},
     "output_type": "display_data"
    }
   ],
   "source": [
    "# add both images\n",
    "img_GM_or_MD = sitk.Or(img_GM, img_MD_dilated)\n",
    "# erase bits equal to Marrow Dura\n",
    "img_GM_2 = sitk.Xor(img_MD_dilated, img_GM_or_MD)\n",
    "myshow(sitk.LabelOverlay(img_T1_255, img_GM_2), \"GRAY MATTER\")\n",
    "\n",
    "# add both images\n",
    "img_WM_or_MD = sitk.Or(img_WM, img_MD_dilated)\n",
    "# erase bits equal to Marrow Dura\n",
    "img_WM_2 = sitk.Xor(img_MD_dilated, img_WM_or_MD)\n",
    "myshow(sitk.LabelOverlay(img_T1_255, img_WM_2), \"WHITE MATTER\")\n"
   ]
  },
  {
   "cell_type": "code",
   "execution_count": 196,
   "metadata": {},
   "outputs": [
    {
     "data": {
      "application/vnd.jupyter.widget-view+json": {
       "model_id": "de69e1e0ebb94e548a0805d2d8f5d33f",
       "version_major": 2,
       "version_minor": 0
      },
      "text/plain": [
       "interactive(children=(IntSlider(value=74, description='z', max=149), Output()), _dom_classes=('widget-interact…"
      ]
     },
     "metadata": {},
     "output_type": "display_data"
    }
   ],
   "source": [
    "# add white matter and gray matter\n",
    "seg = sitk.Or(img_WM_2, img_GM_2)\n",
    "myshow(sitk.LabelOverlay(img_T1_255, seg), \"WM + GM\")"
   ]
  },
  {
   "cell_type": "markdown",
   "metadata": {},
   "source": [
    "## Step 4: Secondary Marrow Dura Removal"
   ]
  },
  {
   "cell_type": "code",
   "execution_count": 197,
   "metadata": {},
   "outputs": [
    {
     "data": {
      "application/vnd.jupyter.widget-view+json": {
       "model_id": "75e6b04b2df44d8b9fe56540ece845ae",
       "version_major": 2,
       "version_minor": 0
      },
      "text/plain": [
       "interactive(children=(IntSlider(value=74, description='z', max=149), Output()), _dom_classes=('widget-interact…"
      ]
     },
     "metadata": {},
     "output_type": "display_data"
    },
    {
     "name": "stdout",
     "output_type": "stream",
     "text": [
      "(141.44854736328125, 342.96429443359375)\n"
     ]
    }
   ],
   "source": [
    "# Apply Otsu threshold Again, to differentiate White and Gray Matter\n",
    "maskedImg = sitk.Mask(img_T1, seg)\n",
    "# call filter\n",
    "filter = sitk.OtsuMultipleThresholdsImageFilter()\n",
    "filter.SetNumberOfThresholds(2) # GM, WM\n",
    "labelOtsu =filter.Execute(maskedImg)\n",
    "multipleOtsu = filter.GetThresholds()\n",
    "myshow(sitk.LabelOverlay(img_T1_255, labelOtsu), \"Multiple OTSU\")\n",
    "print(multipleOtsu)"
   ]
  },
  {
   "cell_type": "code",
   "execution_count": 198,
   "metadata": {},
   "outputs": [
    {
     "name": "stdout",
     "output_type": "stream",
     "text": [
      "Gray matter statistics:\n",
      " mean:  76.00076153082007  sig:  148.6263618217066\n",
      "White matter statistics:\n",
      " mean:  283.82790883864806  sig:  48.01656438939276\n"
     ]
    }
   ],
   "source": [
    "# Compute Staistics regarding each image label\n",
    "statisticFilter = sitk.LabelStatisticsImageFilter()\n",
    "statisticFilter.Execute(img_T1, labelOtsu)\n",
    "# get data for Gray Matter (lower brightness)\n",
    "mean_GM = statisticFilter.GetMean(0)\n",
    "sig_GM = statisticFilter.GetSigma(0)\n",
    "print('Gray matter statistics:\\n mean: ', mean_GM, ' sig: ', sig_GM )\n",
    "# get data for White Matter (higher brightness)\n",
    "mean_WM = statisticFilter.GetMean(1)\n",
    "sig_WM = statisticFilter.GetSigma(1)\n",
    "print('White matter statistics:\\n mean: ', mean_WM, ' sig: ', sig_WM )"
   ]
  },
  {
   "cell_type": "code",
   "execution_count": 199,
   "metadata": {},
   "outputs": [
    {
     "name": "stdout",
     "output_type": "stream",
     "text": [
      "Higher threshold :  403.86931981212996\n"
     ]
    },
    {
     "data": {
      "application/vnd.jupyter.widget-view+json": {
       "model_id": "efb0a16c36604942884b485434798600",
       "version_major": 2,
       "version_minor": 0
      },
      "text/plain": [
       "interactive(children=(IntSlider(value=74, description='z', max=149), Output()), _dom_classes=('widget-interact…"
      ]
     },
     "metadata": {},
     "output_type": "display_data"
    }
   ],
   "source": [
    "# Filter all voxels with intensity > mean_WM + 2.5 * sig_WM\n",
    "higher_thresh = mean_WM + 2.5 * sig_WM\n",
    "print('Higher threshold : ', higher_thresh)\n",
    "seg = sitk.BinaryThreshold(maskedImg, lowerThreshold=1.0, upperThreshold=higher_thresh)\n",
    "myshow(sitk.LabelOverlay(img_T1_255, seg), \"Bright voxels removed\")"
   ]
  },
  {
   "cell_type": "code",
   "execution_count": 200,
   "metadata": {},
   "outputs": [
    {
     "data": {
      "application/vnd.jupyter.widget-view+json": {
       "model_id": "ab30c2c921d74560b1c3337da68dfe94",
       "version_major": 2,
       "version_minor": 0
      },
      "text/plain": [
       "interactive(children=(IntSlider(value=74, description='z', max=149), Output()), _dom_classes=('widget-interact…"
      ]
     },
     "metadata": {},
     "output_type": "display_data"
    }
   ],
   "source": [
    "# Extract largest component\n",
    "filter = sitk.ConnectedComponentImageFilter()\n",
    "components = filter.Execute(img_T1, seg, True)\n",
    "# reorder componends\n",
    "filter = sitk.RelabelComponentImageFilter()\n",
    "reorderedComponents = filter.Execute(components)\n",
    "# get image largest component label (pixel value = 1)\n",
    "seg_connected = sitk.BinaryThreshold(reorderedComponents, 1, 1)\n",
    "myshow(sitk.LabelOverlay(img_T1_255, seg_connected), \"Largest connected\")"
   ]
  },
  {
   "cell_type": "code",
   "execution_count": 201,
   "metadata": {},
   "outputs": [
    {
     "data": {
      "application/vnd.jupyter.widget-view+json": {
       "model_id": "5f5fe0e832724e91bdb58b7318f89a90",
       "version_major": 2,
       "version_minor": 0
      },
      "text/plain": [
       "interactive(children=(IntSlider(value=74, description='z', max=149), Output()), _dom_classes=('widget-interact…"
      ]
     },
     "metadata": {},
     "output_type": "display_data"
    }
   ],
   "source": [
    "# Apply conditionnal dilatation:\n",
    "seg_dilated = ConditionnalDilate(img_T1, seg_connected, threshOtsuValue, kernelSize=3, kernelType=1)\n",
    "myshow(sitk.LabelOverlay(img_T1_255, seg_dilated), \"Conditionnal Dilate\")"
   ]
  },
  {
   "cell_type": "markdown",
   "metadata": {},
   "source": [
    "## Step 5: Removal of Major Venous Sinuses"
   ]
  },
  {
   "cell_type": "code",
   "execution_count": 202,
   "metadata": {},
   "outputs": [
    {
     "name": "stdout",
     "output_type": "stream",
     "text": [
      "Lower threshold :  38.84417107539342\n"
     ]
    },
    {
     "data": {
      "application/vnd.jupyter.widget-view+json": {
       "model_id": "b5c46f1cfb5f4e1c950b911bb501687c",
       "version_major": 2,
       "version_minor": 0
      },
      "text/plain": [
       "interactive(children=(IntSlider(value=74, description='z', max=149), Output()), _dom_classes=('widget-interact…"
      ]
     },
     "metadata": {},
     "output_type": "display_data"
    }
   ],
   "source": [
    "# Apply a low value threshold to remove structures close to GM\n",
    "maskedImg = sitk.Mask(img_T1, seg_dilated)\n",
    "lower_thresh = mean_GM - 2.5 * sig_GM *0.1\n",
    "print('Lower threshold : ', lower_thresh)\n",
    "seg = sitk.BinaryThreshold(maskedImg, lowerThreshold=lower_thresh, upperThreshold=10000)\n",
    "\n",
    "myshow(sitk.LabelOverlay(img_T1_255, seg), \"Dark structures removed\")"
   ]
  },
  {
   "cell_type": "code",
   "execution_count": 204,
   "metadata": {},
   "outputs": [
    {
     "data": {
      "application/vnd.jupyter.widget-view+json": {
       "model_id": "1a3a8219b06c43d38b39a7b585795112",
       "version_major": 2,
       "version_minor": 0
      },
      "text/plain": [
       "interactive(children=(IntSlider(value=74, description='z', max=149), Output()), _dom_classes=('widget-interact…"
      ]
     },
     "metadata": {},
     "output_type": "display_data"
    }
   ],
   "source": [
    "seg_open = MorphOpening(seg, 3, 1)\n",
    "myshow(sitk.LabelOverlay(img_T1_255, seg_open), \"Morphological Open\")"
   ]
  },
  {
   "cell_type": "markdown",
   "metadata": {},
   "source": [
    "## Step 6: Conditional Gray-Level Dilatation or Erosion"
   ]
  },
  {
   "cell_type": "code",
   "execution_count": 181,
   "metadata": {},
   "outputs": [
    {
     "name": "stdout",
     "output_type": "stream",
     "text": [
      "66.57180933683861\n",
      "179.0\n"
     ]
    }
   ],
   "source": [
    "thresh_final = (I_scf + mean_GM)/2\n",
    "print(thresh_final)\n",
    "print(threshOtsuValue)"
   ]
  },
  {
   "cell_type": "code",
   "execution_count": 182,
   "metadata": {},
   "outputs": [
    {
     "data": {
      "application/vnd.jupyter.widget-view+json": {
       "model_id": "1cf1d8a8998646779f71859f941a2d5b",
       "version_major": 2,
       "version_minor": 0
      },
      "text/plain": [
       "interactive(children=(IntSlider(value=74, description='z', max=149), Output()), _dom_classes=('widget-interact…"
      ]
     },
     "metadata": {},
     "output_type": "display_data"
    }
   ],
   "source": [
    "# if thresh_final <= threshOtsuValue perform dilatation\n",
    "if thresh_final <= threshOtsuValue:\n",
    "    seg_final = ConditionnalDilate(img_T1, seg_open, threshOtsuValue, kernelSize=1, kernelType=1)\n",
    "else:\n",
    "    seg_final = BinaryErode(seg_open)\n",
    "\n",
    "myshow(sitk.LabelOverlay(img_T1_255, seg_final), \"Final Segmentation\")"
   ]
  },
  {
   "cell_type": "code",
   "execution_count": null,
   "metadata": {},
   "outputs": [],
   "source": []
  }
 ],
 "metadata": {
  "file_extension": ".py",
  "kernelspec": {
   "display_name": "Python 3",
   "language": "python",
   "name": "python3"
  },
  "language_info": {
   "codemirror_mode": {
    "name": "ipython",
    "version": 3
   },
   "file_extension": ".py",
   "mimetype": "text/x-python",
   "name": "python",
   "nbconvert_exporter": "python",
   "pygments_lexer": "ipython3",
   "version": "3.6.8"
  },
  "mimetype": "text/x-python",
  "name": "python",
  "npconvert_exporter": "python",
  "pygments_lexer": "ipython3",
  "version": 3
 },
 "nbformat": 4,
 "nbformat_minor": 2
}
